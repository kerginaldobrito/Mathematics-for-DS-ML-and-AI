{
 "cells": [
  {
   "cell_type": "code",
   "execution_count": 1,
   "id": "63da3ce6",
   "metadata": {},
   "outputs": [],
   "source": [
    "# Para atualizar um pacote, execute o comando abaixo no terminal ou prompt de comando:\n",
    "# pip install -U nome_pacote\n",
    "\n",
    "# Para instalar a versão exata de um pacote, execute o comando abaixo no terminal ou prompt de comando:\n",
    "# !pip install nome_pacote==versão_desejada\n",
    "\n",
    "# Depois de instalar ou atualizar o pacote, reinicie o jupyter notebook.\n",
    "\n",
    "# Instala o pacote watermark. \n",
    "# Esse pacote é usado para gravar as versões de outros pacotes usados neste jupyter notebook.\n",
    "!pip install -q -U watermark"
   ]
  },
  {
   "cell_type": "code",
   "execution_count": 2,
   "id": "ca6e44f7",
   "metadata": {},
   "outputs": [],
   "source": [
    "# Imports\n",
    "import numpy as np"
   ]
  },
  {
   "cell_type": "code",
   "execution_count": 3,
   "id": "1fc0df6d",
   "metadata": {},
   "outputs": [
    {
     "name": "stdout",
     "output_type": "stream",
     "text": [
      "Author: Data Science Academy\n",
      "\n"
     ]
    }
   ],
   "source": [
    "# Versões dos pacotes usados neste jupyter notebook\n",
    "%reload_ext watermark\n",
    "%watermark -a \"Data Science Academy\" "
   ]
  },
  {
   "cell_type": "markdown",
   "id": "42d41960",
   "metadata": {},
   "source": [
    "**Resolva os exercícios abaixo usando Linguagem Python. Faça pesquisa complementar se necessário.**"
   ]
  },
  {
   "cell_type": "code",
   "execution_count": 4,
   "id": "7246df23",
   "metadata": {},
   "outputs": [],
   "source": [
    "# Criando duas matrizes de exemplo\n",
    "matriz1 = [[1, 2, 3], [0, 1, 4], [5, 6, 0]]\n",
    "matriz2 = [[5, 2, 8], [3, 1, 2], [7, 0, 2]]"
   ]
  },
  {
   "cell_type": "code",
   "execution_count": 5,
   "id": "dd29ac92",
   "metadata": {},
   "outputs": [
    {
     "name": "stdout",
     "output_type": "stream",
     "text": [
      "[[1, 2, 3], [0, 1, 4], [5, 6, 0]]\n"
     ]
    }
   ],
   "source": [
    "print(matriz1)"
   ]
  },
  {
   "cell_type": "code",
   "execution_count": 6,
   "id": "7c016726",
   "metadata": {},
   "outputs": [
    {
     "data": {
      "text/plain": [
       "list"
      ]
     },
     "execution_count": 6,
     "metadata": {},
     "output_type": "execute_result"
    }
   ],
   "source": [
    "type(matriz1)"
   ]
  },
  {
   "cell_type": "code",
   "execution_count": 7,
   "id": "25a30f56",
   "metadata": {},
   "outputs": [
    {
     "name": "stdout",
     "output_type": "stream",
     "text": [
      "[[5, 2, 8], [3, 1, 2], [7, 0, 2]]\n"
     ]
    }
   ],
   "source": [
    "print(matriz2)"
   ]
  },
  {
   "cell_type": "code",
   "execution_count": 8,
   "id": "f68899b3",
   "metadata": {},
   "outputs": [
    {
     "data": {
      "text/plain": [
       "list"
      ]
     },
     "execution_count": 8,
     "metadata": {},
     "output_type": "execute_result"
    }
   ],
   "source": [
    "type(matriz2)"
   ]
  },
  {
   "cell_type": "markdown",
   "id": "9c49b696",
   "metadata": {},
   "source": [
    "###  Exercício 1: Soma de Matrizes\n",
    "\n",
    "Escreva um programa em Python que soma duas matrizes de mesmo tamanho. As matrizes devem ser lidas como listas de listas e o resultado deve ser exibido na tela. Apresente a solução com e sem o uso do NumPy. Pratique suas habilidades de programação ao mesmo tempo que estuda Matemática."
   ]
  },
  {
   "cell_type": "markdown",
   "id": "866feaa1",
   "metadata": {},
   "source": [
    "**RESULTADO SEM O USO DO NUMPY**"
   ]
  },
  {
   "cell_type": "code",
   "execution_count": 9,
   "id": "59a48661",
   "metadata": {},
   "outputs": [],
   "source": [
    "matriz1 = np.array([[1, 2, 3], [0, 1, 4], [5, 6, 0]])"
   ]
  },
  {
   "cell_type": "code",
   "execution_count": 10,
   "id": "20eabdc5",
   "metadata": {},
   "outputs": [
    {
     "name": "stdout",
     "output_type": "stream",
     "text": [
      "[[1 2 3]\n",
      " [0 1 4]\n",
      " [5 6 0]]\n"
     ]
    }
   ],
   "source": [
    "print(matriz1)"
   ]
  },
  {
   "cell_type": "code",
   "execution_count": 11,
   "id": "d6061679",
   "metadata": {},
   "outputs": [
    {
     "data": {
      "text/plain": [
       "numpy.ndarray"
      ]
     },
     "execution_count": 11,
     "metadata": {},
     "output_type": "execute_result"
    }
   ],
   "source": [
    "type(matriz1)"
   ]
  },
  {
   "cell_type": "code",
   "execution_count": 12,
   "id": "e491a4c2",
   "metadata": {},
   "outputs": [],
   "source": [
    "matriz2 = np.array([[5, 2, 8], [3, 1, 2], [7, 0, 2]])"
   ]
  },
  {
   "cell_type": "code",
   "execution_count": 13,
   "id": "0e78c7ba",
   "metadata": {},
   "outputs": [
    {
     "name": "stdout",
     "output_type": "stream",
     "text": [
      "[[5 2 8]\n",
      " [3 1 2]\n",
      " [7 0 2]]\n"
     ]
    }
   ],
   "source": [
    "print(matriz2)"
   ]
  },
  {
   "cell_type": "code",
   "execution_count": 14,
   "id": "02978eb6",
   "metadata": {},
   "outputs": [
    {
     "data": {
      "text/plain": [
       "numpy.ndarray"
      ]
     },
     "execution_count": 14,
     "metadata": {},
     "output_type": "execute_result"
    }
   ],
   "source": [
    "type(matriz2)"
   ]
  },
  {
   "cell_type": "code",
   "execution_count": 15,
   "id": "bff9d187",
   "metadata": {},
   "outputs": [
    {
     "name": "stdout",
     "output_type": "stream",
     "text": [
      "[[ 6  4 11]\n",
      " [ 3  2  6]\n",
      " [12  6  2]]\n"
     ]
    }
   ],
   "source": [
    "# Criando uma matriz resultado 3x3 preenchida com zeros\n",
    "resultado = [[0, 0, 0] for _ in range(3)]\n",
    "\n",
    "# Somando as matrizes\n",
    "for i in range(3):  # Percorre as linhas\n",
    "    for j in range(3):  # Percorre as colunas\n",
    "        resultado[i][j] = matriz1[i][j] + matriz2[i][j]\n",
    "\n",
    "soma = np.array(resultado)\n",
    "print(soma)"
   ]
  },
  {
   "cell_type": "markdown",
   "id": "a42c880f",
   "metadata": {},
   "source": [
    "**RESULTADO COM O USO DO NUMPY**"
   ]
  },
  {
   "cell_type": "code",
   "execution_count": 16,
   "id": "ed147e82",
   "metadata": {},
   "outputs": [
    {
     "name": "stdout",
     "output_type": "stream",
     "text": [
      "[[ 6  4 11]\n",
      " [ 3  2  6]\n",
      " [12  6  2]]\n"
     ]
    }
   ],
   "source": [
    "soma_np = matriz1 + matriz2\n",
    "print(soma_np)"
   ]
  },
  {
   "cell_type": "code",
   "execution_count": 17,
   "id": "b4eec412",
   "metadata": {},
   "outputs": [
    {
     "data": {
      "text/plain": [
       "numpy.ndarray"
      ]
     },
     "execution_count": 17,
     "metadata": {},
     "output_type": "execute_result"
    }
   ],
   "source": [
    "type(soma_np)"
   ]
  },
  {
   "cell_type": "markdown",
   "id": "534448c5",
   "metadata": {},
   "source": [
    "** SOLUÇÃO APRESENTADA**"
   ]
  },
  {
   "cell_type": "code",
   "execution_count": 18,
   "id": "0a8899f3",
   "metadata": {},
   "outputs": [
    {
     "data": {
      "text/plain": [
       "array([[ 6,  4, 11],\n",
       "       [ 3,  2,  6],\n",
       "       [12,  6,  2]])"
      ]
     },
     "execution_count": 18,
     "metadata": {},
     "output_type": "execute_result"
    }
   ],
   "source": [
    "# Com NumPy - Versão 1 (mais simples de todas)\n",
    "def dsa_soma_matrizes_v1(m1, m2):\n",
    "    return np.array(m1) + np.array(m2)\n",
    "dsa_soma_matrizes_v1(matriz1, matriz2)"
   ]
  },
  {
   "cell_type": "code",
   "execution_count": 19,
   "id": "ff737e69",
   "metadata": {},
   "outputs": [
    {
     "data": {
      "text/plain": [
       "array([[ 6,  4, 11],\n",
       "       [ 3,  2,  6],\n",
       "       [12,  6,  2]])"
      ]
     },
     "execution_count": 19,
     "metadata": {},
     "output_type": "execute_result"
    }
   ],
   "source": [
    "# Com NumPy - Versão 2\n",
    "def dsa_soma_matrizes_v2(A, B):\n",
    "    \n",
    "    A_np = np.array(A)\n",
    "    B_np = np.array(B)\n",
    "    \n",
    "    return A_np + B_np\n",
    "dsa_soma_matrizes_v2(matriz1, matriz2)"
   ]
  },
  {
   "cell_type": "code",
   "execution_count": 20,
   "id": "e4ac565f",
   "metadata": {},
   "outputs": [
    {
     "data": {
      "text/plain": [
       "[[6, 4, 11], [3, 2, 6], [12, 6, 2]]"
      ]
     },
     "execution_count": 20,
     "metadata": {},
     "output_type": "execute_result"
    }
   ],
   "source": [
    "# Sem NumPy - Versão 3\n",
    "def dsa_soma_matrizes_v3(m1, m2):\n",
    "    \n",
    "    # Verifica se as matrizes têm o mesmo número de linhas e colunas\n",
    "    if len(m1) != len(m2) or len(m1[0]) != len(m2[0]):\n",
    "        \n",
    "        # Retorna uma mensagem de erro se as matrizes não tiverem o mesmo tamanho\n",
    "        return \"As matrizes devem ter o mesmo tamanho\"  \n",
    "    \n",
    "    # Inicializa a matriz de resultado como uma lista vazia\n",
    "    resultado = [] \n",
    "    \n",
    "    # Loop através de cada linha da matriz\n",
    "    for i in range(len(m1)):\n",
    "        \n",
    "        # Inicializa uma nova linha para a matriz de resultado\n",
    "        linha = []  \n",
    "        \n",
    "        # Loop através de cada coluna da linha atual\n",
    "        for j in range(len(m1[0])):\n",
    "            \n",
    "            # Soma os elementos correspondentes das duas matrizes e adiciona à linha\n",
    "            linha.append(m1[i][j] + m2[i][j])  \n",
    "        \n",
    "        # Adiciona a linha recém-calculada à matriz de resultado\n",
    "        resultado.append(linha)  \n",
    "    \n",
    "    # Retorna a matriz de resultado após somar todos os elementos\n",
    "    return resultado  \n",
    "dsa_soma_matrizes_v3(matriz1, matriz2)"
   ]
  },
  {
   "cell_type": "code",
   "execution_count": 21,
   "id": "8a545769",
   "metadata": {},
   "outputs": [
    {
     "data": {
      "text/plain": [
       "[[6, 4, 11], [3, 2, 6], [12, 6, 2]]"
      ]
     },
     "execution_count": 21,
     "metadata": {},
     "output_type": "execute_result"
    }
   ],
   "source": [
    "# Sem NumPy - Versão 4 (mais complexa)\n",
    "def dsa_soma_matrizes_v4(A, B):\n",
    "    \n",
    "    if len(A) != len(B) or len(A[0]) != len(B[0]):\n",
    "        \n",
    "        return \"Matrizes de tamanhos diferentes\"\n",
    "    \n",
    "    return [[A[i][j] + B[i][j] for j in range(len(A[0]))] for i in range(len(A))]\n",
    "dsa_soma_matrizes_v3(matriz1, matriz2)"
   ]
  },
  {
   "cell_type": "markdown",
   "id": "19ba1b23",
   "metadata": {},
   "source": [
    "Exercício 2: Multiplicação de Matrizes\n",
    "Implemente uma função em Python que multiplica duas matrizes. Verifique se as dimensões das matrizes são compatíveis para a multiplicação e retorne a matriz resultante. Apresente a solução com e sem o uso do NumPy. Pratique suas habilidades de programação ao mesmo tempo que estuda Matemática."
   ]
  },
  {
   "cell_type": "markdown",
   "id": "6687e222",
   "metadata": {},
   "source": [
    "**RESULTADO SEM NUMPY**"
   ]
  },
  {
   "cell_type": "code",
   "execution_count": 22,
   "id": "753fa9bc",
   "metadata": {},
   "outputs": [
    {
     "name": "stdout",
     "output_type": "stream",
     "text": [
      "[58 64]\n",
      "[139 154]\n"
     ]
    },
    {
     "data": {
      "text/plain": [
       "numpy.ndarray"
      ]
     },
     "execution_count": 22,
     "metadata": {},
     "output_type": "execute_result"
    }
   ],
   "source": [
    "def multiplica_matrizes(A, B):\n",
    "    # Número de linhas e colunas das matrizes\n",
    "    linhas_A, colunas_A = len(A), len(A[0])\n",
    "    linhas_B, colunas_B = len(B), len(B[0])\n",
    "\n",
    "    # Verifica se a multiplicação é possível (número de colunas de A == número de linhas de B)\n",
    "    if colunas_A != linhas_B:\n",
    "        raise ValueError(\"Número de colunas de A deve ser igual ao número de linhas de B.\")\n",
    "\n",
    "    # Cria a matriz resultado com zeros (m x p)\n",
    "    C = [[0] * colunas_B for _ in range(linhas_A)]\n",
    "\n",
    "    # Multiplicação de matrizes\n",
    "    for i in range(linhas_A):  # Percorre as linhas de A\n",
    "        for j in range(colunas_B):  # Percorre as colunas de B\n",
    "            for k in range(colunas_A):  # Percorre os elementos da linha de A e coluna de B\n",
    "                C[i][j] += A[i][k] * B[k][j]\n",
    "\n",
    "    return C\n",
    "\n",
    "# Exemplo de uso\n",
    "A = [[1, 2, 3], \n",
    "     [4, 5, 6]]\n",
    "\n",
    "B = [[7, 8], \n",
    "     [9, 10], \n",
    "     [11, 12]]\n",
    "\n",
    "C = np. array(multiplica_matrizes(A, B))\n",
    "\n",
    "# Exibir resultado\n",
    "for linha in C:\n",
    "    print(linha)\n",
    "type(C)"
   ]
  },
  {
   "cell_type": "markdown",
   "id": "d6ccd5b4",
   "metadata": {},
   "source": [
    "**RESULTADO COM NUMPY**"
   ]
  },
  {
   "cell_type": "code",
   "execution_count": 23,
   "id": "aafc26b3",
   "metadata": {},
   "outputs": [
    {
     "name": "stdout",
     "output_type": "stream",
     "text": [
      "[[ 58  64]\n",
      " [139 154]]\n"
     ]
    },
    {
     "data": {
      "text/plain": [
       "numpy.ndarray"
      ]
     },
     "execution_count": 23,
     "metadata": {},
     "output_type": "execute_result"
    }
   ],
   "source": [
    "def multiplica_matrizes(A, B):\n",
    "    # Número de linhas e colunas das matrizes\n",
    "    linhas_A, colunas_A = len(A), len(A[0])\n",
    "    linhas_B, colunas_B = len(B), len(B[0])\n",
    "\n",
    "    # Verifica se a multiplicação é possível (número de colunas de A == número de linhas de B)\n",
    "    if colunas_A != linhas_B:\n",
    "        raise ValueError(\"Número de colunas de A deve ser igual ao número de linhas de B.\")\n",
    "    return np.dot(A, B)\n",
    "\n",
    "# Definição das matrizes\n",
    "A = np.array([[1, 2, 3], \n",
    "              [4, 5, 6]])\n",
    "\n",
    "B = np.array([[7, 8], \n",
    "              [9, 10], \n",
    "              [11, 12]])\n",
    "\n",
    "C = multiplica_matrizes(A, B)\n",
    "\n",
    "# Exibir resultado\n",
    "print(C)\n",
    "type(C)"
   ]
  },
  {
   "cell_type": "markdown",
   "id": "67a07e9e",
   "metadata": {},
   "source": [
    "### Exercício 3: Transposição de Matriz\n",
    "\n",
    "Crie um programa que calcula a transposta de uma matriz. A matriz deve ser inserida pelo usuário e o programa deve exibir a matriz transposta. Apresente a solução com e sem o uso do NumPy. Pratique suas habilidades de programação ao mesmo tempo que estuda Matemática."
   ]
  },
  {
   "cell_type": "markdown",
   "id": "63effb40",
   "metadata": {},
   "source": [
    "**RESULTADO SEM NUMPY**"
   ]
  },
  {
   "cell_type": "code",
   "execution_count": 25,
   "id": "d1144db3",
   "metadata": {
    "scrolled": true
   },
   "outputs": [
    {
     "name": "stdout",
     "output_type": "stream",
     "text": [
      "Digite o número de linhas: 2\n",
      "Digite o número de colunas: 3\n",
      "Digite os 3 elementos da linha 1, separados por espaço: 1 2 3\n",
      "Digite os 3 elementos da linha 2, separados por espaço: 4 5 6\n",
      "\n",
      "Matriz digitada:\n",
      "[1, 2, 3]\n",
      "[4, 5, 6]\n"
     ]
    }
   ],
   "source": [
    "def ler_matriz():\n",
    "    # Pedir número de linhas e colunas\n",
    "    m = int(input(\"Digite o número de linhas: \"))\n",
    "    n = int(input(\"Digite o número de colunas: \"))\n",
    "\n",
    "    matriz = []  # Lista vazia para armazenar a matriz\n",
    "\n",
    "    # Loop para preencher a matriz\n",
    "    for i in range(m):\n",
    "        linha = list(map(int, input(f\"Digite os {n} elementos da linha {i+1}, separados por espaço: \").split()))\n",
    "        while len(linha) != n:  # Verifica se o usuário digitou a quantidade correta de elementos\n",
    "            print(\"Número incorreto de elementos! Tente novamente.\")\n",
    "            linha = list(map(int, input(f\"Digite os {n} elementos da linha {i+1}, separados por espaço: \").split()))\n",
    "        matriz.append(linha)\n",
    "\n",
    "    return matriz\n",
    "\n",
    "# Testando a função\n",
    "matriz = ler_matriz()\n",
    "\n",
    "# Exibindo a matriz formatada\n",
    "print(\"\\nMatriz digitada:\")\n",
    "for linha in matriz:\n",
    "    print(linha)\n"
   ]
  },
  {
   "cell_type": "code",
   "execution_count": 26,
   "id": "e1ccef9f",
   "metadata": {},
   "outputs": [
    {
     "name": "stdout",
     "output_type": "stream",
     "text": [
      "[1, 4]\n",
      "[2, 5]\n",
      "[3, 6]\n"
     ]
    }
   ],
   "source": [
    "def transposta(matriz):\n",
    "    return [[A[j][i] for j in range(len(A))] for i in range(len(A[0]))]\n",
    "\n",
    "AT = transposta(matriz)\n",
    "# Exibir a matriz transposta\n",
    "for linha in AT:\n",
    "    print(linha)"
   ]
  },
  {
   "cell_type": "markdown",
   "id": "6ecf9c12",
   "metadata": {},
   "source": [
    "**RESULTADO COM NUMPY**"
   ]
  },
  {
   "cell_type": "code",
   "execution_count": 27,
   "id": "b64b6b5b",
   "metadata": {},
   "outputs": [
    {
     "name": "stdout",
     "output_type": "stream",
     "text": [
      "Digite o número de linhas: 2 \n",
      "Digite o número de colunas: 3\n",
      "Digite os 3 elementos da linha 1, separados por espaço: 1 2 3\n",
      "Digite os 3 elementos da linha 2, separados por espaço: 4 5 6\n",
      "\n",
      "Matriz digitada:\n",
      "[1, 2, 3]\n",
      "[4, 5, 6]\n"
     ]
    }
   ],
   "source": [
    "def ler_matriz():\n",
    "    # Pedir número de linhas e colunas\n",
    "    m = int(input(\"Digite o número de linhas: \"))\n",
    "    n = int(input(\"Digite o número de colunas: \"))\n",
    "\n",
    "    matriz = []  # Lista vazia para armazenar a matriz\n",
    "\n",
    "    # Loop para preencher a matriz\n",
    "    for i in range(m):\n",
    "        linha = list(map(int, input(f\"Digite os {n} elementos da linha {i+1}, separados por espaço: \").split()))\n",
    "        while len(linha) != n:  # Verifica se o usuário digitou a quantidade correta de elementos\n",
    "            print(\"Número incorreto de elementos! Tente novamente.\")\n",
    "            linha = list(map(int, input(f\"Digite os {n} elementos da linha {i+1}, separados por espaço: \").split()))\n",
    "        matriz.append(linha)\n",
    "\n",
    "    return matriz\n",
    "\n",
    "# Testando a função\n",
    "matriz = ler_matriz()\n",
    "\n",
    "# Exibindo a matriz formatada\n",
    "print(\"\\nMatriz digitada:\")\n",
    "for linha in matriz:\n",
    "    print(linha)\n"
   ]
  },
  {
   "cell_type": "code",
   "execution_count": 28,
   "id": "23865747",
   "metadata": {},
   "outputs": [
    {
     "name": "stdout",
     "output_type": "stream",
     "text": [
      "[[1 4]\n",
      " [2 5]\n",
      " [3 6]]\n"
     ]
    }
   ],
   "source": [
    "matriz_np = np.array(matriz)\n",
    "AT = matriz_np.T\n",
    "print(AT)"
   ]
  },
  {
   "cell_type": "markdown",
   "id": "e76929ab",
   "metadata": {},
   "source": [
    "**SOLUÇÃO APRESENTADA COM LIST COMPREHENSION SEM NUMPY**"
   ]
  },
  {
   "cell_type": "code",
   "execution_count": 29,
   "id": "ef5116ad",
   "metadata": {},
   "outputs": [
    {
     "name": "stdout",
     "output_type": "stream",
     "text": [
      "[[1, 4], [2, 5], [3, 6]]\n"
     ]
    }
   ],
   "source": [
    "# Sem NumPy\n",
    "def dsa_transposicao_v2(matriz):\n",
    "    \n",
    "    return [[matriz[j][i] for j in range(len(matriz))] for i in range(len(matriz[0]))]\n",
    "print(dsa_transposicao_v2(matriz))"
   ]
  },
  {
   "cell_type": "markdown",
   "id": "4fdb864f",
   "metadata": {},
   "source": [
    "**Exercício 4: Traço de uma Matriz**\n",
    "\n",
    "Desenvolva um script em Python que calcula o traço de uma matriz (soma dos elementos da diagonal principal). O programa deve funcionar para matrizes quadradas de qualquer tamanho. Apresente a solução com e sem o uso do NumPy. Pratique suas habilidades de programação ao mesmo tempo que estuda Matemática."
   ]
  },
  {
   "cell_type": "markdown",
   "id": "8dfdef49",
   "metadata": {},
   "source": [
    "**RESULTADO SEM NUMPY**"
   ]
  },
  {
   "cell_type": "code",
   "execution_count": 34,
   "id": "04ba49ef",
   "metadata": {},
   "outputs": [
    {
     "name": "stdout",
     "output_type": "stream",
     "text": [
      "O traço da matriz A é igual à 15.\n",
      "Não é possivel calcular o traço da matriz B. A matriz deve ser quadrada. O número de linhas deve ser igual ao número de colunas..\n"
     ]
    }
   ],
   "source": [
    "def traco_matriz(A):\n",
    "    # Verifica se a matriz é quadrada.\n",
    "    if len(A) != len(A[0]):\n",
    "        return \"A matriz deve ser quadrada. O número de linhas deve ser igual ao número de colunas.\"\n",
    "    \n",
    "    \n",
    "    # cria a variável soma vazia:\n",
    "    soma = 0\n",
    "                     \n",
    "    # Percorre a diagonal principal.\n",
    "    for i in range(len(A)):\n",
    "            soma += A[i][i]\n",
    "    \n",
    "    return soma\n",
    "        \n",
    "A = [[1, 2, 3], \n",
    "     [4, 5, 6], \n",
    "     [7, 8, 9]]\n",
    "\n",
    "B = [[1, 2, 3], \n",
    "     [4, 5, 6]]\n",
    "\n",
    "\n",
    "print(f\"O traço da matriz A é igual à {traco_matriz(A)}.\")\n",
    "print(f\"Não é possivel calcular o traço da matriz B. {traco_matriz(B)}.\")"
   ]
  },
  {
   "cell_type": "markdown",
   "id": "ecd1b3fd",
   "metadata": {},
   "source": [
    "**RESULTADO COM NUMPY**"
   ]
  },
  {
   "cell_type": "code",
   "execution_count": 33,
   "id": "0443939a",
   "metadata": {},
   "outputs": [
    {
     "name": "stdout",
     "output_type": "stream",
     "text": [
      "O traço da matriz A é igual à 15.\n",
      "Não é possivel calcular o traço da matriz B. A matriz deve ser quadrada. O número de linhas deve ser igual ao número de colunas..\n"
     ]
    }
   ],
   "source": [
    "def traco_matriz(A):\n",
    "    # Verifica se a matriz é quadrada.\n",
    "    if len(A) != len(A[0]):\n",
    "        return \"A matriz deve ser quadrada. O número de linhas deve ser igual ao número de colunas.\"\n",
    "    \n",
    "    return np.trace(A)\n",
    "    \n",
    "    return soma\n",
    "        \n",
    "A = [[1, 2, 3], \n",
    "     [4, 5, 6], \n",
    "     [7, 8, 9]]\n",
    "\n",
    "B = [[1, 2, 3], \n",
    "     [4, 5, 6]]\n",
    "\n",
    "\n",
    "print(f\"O traço da matriz A é igual à {traco_matriz(A)}.\")\n",
    "print(f\"Não é possivel calcular o traço da matriz B. {traco_matriz(B)}.\")"
   ]
  },
  {
   "cell_type": "markdown",
   "id": "a837cd9e",
   "metadata": {},
   "source": [
    "***Exercício 5: Determinante de uma Matriz (Desafio)***\n",
    "\n",
    "Escreva uma função que calcula o determinante de uma matriz quadrada. Utilize a recursividade ou o método de Laplace para calcular o determinante. Apresente a solução com e sem o uso do NumPy. Pratique suas habilidades de programação ao mesmo tempo que estuda Matemática.\n",
    "\n",
    "O determinante de uma matriz é um valor escalar que fornece informações importantes sobre a matriz. Ele é aplicável apenas a matrizes quadradas (matrizes com o mesmo número de linhas e colunas). O determinante tem várias interpretações e aplicações na matemática, particularmente em álgebra linear, análise e geometria.\n",
    "\n",
    "Algumas das principais propriedades e interpretações do determinante são:\n",
    "\n",
    "Interpretação Geométrica: Para matrizes 2x2 e 3x3, o determinante pode ser interpretado como a área (para matrizes 2x2) ou o volume (para matrizes 3x3) do paralelogramo ou paralelepípedo formado pelos vetores que compõem as linhas ou colunas da matriz.\n",
    "\n",
    "Singularidade: Um determinante igual a zero indica que a matriz é singular (não invertível). Isso acontece quando as linhas ou colunas da matriz são linearmente dependentes, ou seja, uma linha ou coluna pode ser expressa como uma combinação linear das outras.\n",
    "\n",
    "Transformações Lineares: Em termos de transformações lineares, o determinante de uma matriz que representa uma transformação linear indica se a transformação preserva, inverte ou deforma o espaço. Um determinante negativo indica que a orientação foi invertida.\n",
    "\n",
    "Solução de Sistemas Lineares: O determinante é usado na regra de Cramer para resolver sistemas de equações lineares. Se o determinante da matriz dos coeficientes for diferente de zero, existe uma única solução para o sistema.\n",
    "\n"
   ]
  },
  {
   "cell_type": "code",
   "execution_count": null,
   "id": "5b3f82d2",
   "metadata": {},
   "outputs": [],
   "source": []
  }
 ],
 "metadata": {
  "kernelspec": {
   "display_name": "Python 3 (ipykernel)",
   "language": "python",
   "name": "python3"
  },
  "language_info": {
   "codemirror_mode": {
    "name": "ipython",
    "version": 3
   },
   "file_extension": ".py",
   "mimetype": "text/x-python",
   "name": "python",
   "nbconvert_exporter": "python",
   "pygments_lexer": "ipython3",
   "version": "3.9.13"
  }
 },
 "nbformat": 4,
 "nbformat_minor": 5
}
