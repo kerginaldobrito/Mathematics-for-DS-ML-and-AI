{
 "cells": [
  {
   "cell_type": "markdown",
   "metadata": {},
   "source": [
    "<!-- Projeto Desenvolvido na Data Science Academy - www.datascienceacademy.com.br -->\n",
    "# <font color='blue'>Data Science Academy</font>\n",
    "## <font color='blue'>Matemática e Estatística Aplicada Para Data Science, Machine Learning e IA</font>\n",
    "## <font color='blue'>Lista de Exercícios 7</font>\n",
    "## <font color='blue'>Operações com Determinante e Matriz Inversa</font>"
   ]
  },
  {
   "cell_type": "markdown",
   "metadata": {},
   "source": [
    "## Instalando e Carregando os Pacotes"
   ]
  },
  {
   "cell_type": "code",
   "execution_count": 1,
   "metadata": {},
   "outputs": [],
   "source": [
    "# Para atualizar um pacote, execute o comando abaixo no terminal ou prompt de comando:\n",
    "# pip install -U nome_pacote\n",
    "\n",
    "# Para instalar a versão exata de um pacote, execute o comando abaixo no terminal ou prompt de comando:\n",
    "# !pip install nome_pacote==versão_desejada\n",
    "\n",
    "# Depois de instalar ou atualizar o pacote, reinicie o jupyter notebook.\n",
    "\n",
    "# Instala o pacote watermark. \n",
    "# Esse pacote é usado para gravar as versões de outros pacotes usados neste jupyter notebook.\n",
    "#!pip install -q -U watermark"
   ]
  },
  {
   "cell_type": "code",
   "execution_count": 2,
   "metadata": {},
   "outputs": [],
   "source": [
    "# Imports\n",
    "import numpy as np"
   ]
  },
  {
   "cell_type": "code",
   "execution_count": 3,
   "metadata": {},
   "outputs": [
    {
     "name": "stdout",
     "output_type": "stream",
     "text": [
      "Author: Data Science Academy\n",
      "\n"
     ]
    }
   ],
   "source": [
    "# Versões dos pacotes usados neste jupyter notebook\n",
    "%reload_ext watermark\n",
    "%watermark -a \"Data Science Academy\" "
   ]
  },
  {
   "cell_type": "markdown",
   "metadata": {},
   "source": [
    "**Resolva os exercícios abaixo usando Linguagem Python. Faça pesquisa complementar se necessário.**"
   ]
  },
  {
   "cell_type": "markdown",
   "metadata": {},
   "source": [
    "### Exercício 1: Cálculo de Determinante\n",
    "\n",
    "Calcule o determinante da matriz 3x3 abaixo. "
   ]
  },
  {
   "cell_type": "code",
   "execution_count": 4,
   "metadata": {},
   "outputs": [],
   "source": [
    "dsa_matriz_1 = [[1, 2, 3], [4, 5, 6], [7, 8, 9]]"
   ]
  },
  {
   "cell_type": "code",
   "execution_count": 5,
   "metadata": {},
   "outputs": [
    {
     "name": "stdout",
     "output_type": "stream",
     "text": [
      "[[1, 2, 3], [4, 5, 6], [7, 8, 9]]\n"
     ]
    }
   ],
   "source": [
    "print(dsa_matriz_1)"
   ]
  },
  {
   "cell_type": "code",
   "execution_count": 10,
   "metadata": {},
   "outputs": [
    {
     "name": "stdout",
     "output_type": "stream",
     "text": [
      "o determinante: 6.66133814775094e-16.\n"
     ]
    }
   ],
   "source": [
    "# Cálculo do determinante COM NumPy:(PRÓXIMO DE ZERO)\n",
    "determinante = np.linalg.det(dsa_matriz_1)\n",
    "print(f\"o determinante: {determinante}.\")"
   ]
  },
  {
   "cell_type": "code",
   "execution_count": 11,
   "metadata": {},
   "outputs": [
    {
     "name": "stdout",
     "output_type": "stream",
     "text": [
      "0\n"
     ]
    }
   ],
   "source": [
    "# Cálculo do determinante SEM NumPy:(= ZERO)\n",
    "det1=1*(-3)-2*(-6)+3*(-3)\n",
    "print(det1)"
   ]
  },
  {
   "cell_type": "markdown",
   "metadata": {},
   "source": [
    "'''Conclusão:\n",
    "O determinante correto da matriz 𝐴 deve ser zero, pois as linhas da matriz são linearmente dependentes (a terceira linha é a soma das duas primeiras). Se o NumPy retornou um valor muito pequeno ao invés de exatamente zero, isso se deve a erros numéricos inerentes à computação em ponto flutuante.'''"
   ]
  },
  {
   "cell_type": "markdown",
   "metadata": {},
   "source": [
    "### Exercício 2: Matriz Inversa de uma Matriz 2x2\n",
    "\n",
    "Crie uma função em Python que receba uma matriz 2x2 e retorne sua inversa. Não use o NumPy. Teste sua função com a seguinte matriz:"
   ]
  },
  {
   "cell_type": "code",
   "execution_count": 12,
   "metadata": {},
   "outputs": [],
   "source": [
    "dsa_matriz_2 = [[4, 7], [2, 6]]"
   ]
  },
  {
   "cell_type": "code",
   "execution_count": 22,
   "metadata": {},
   "outputs": [
    {
     "name": "stdout",
     "output_type": "stream",
     "text": [
      "A matriz inversa: \n",
      " [[0.6, -0.7], [-0.2, 0.4]].\n"
     ]
    }
   ],
   "source": [
    "# SEM NUMPY:\n",
    "def inverse_2x2(matrix):\n",
    "    a, b = matrix[0][0], matrix[0][1]\n",
    "    c, d = matrix[1][0], matrix[1][1]\n",
    "    \n",
    "    det = a*d - b*c\n",
    "    \n",
    "    if det == 0:\n",
    "        raise ValueError(\"A matriz não tem inversa (determinante zero).\")\n",
    "    inverse_matrix = [[d / det, -b / det], \n",
    "                      [-c / det, a / det]]\n",
    "    return print(f\"A matriz inversa: \\n {inverse_matrix}.\")\n",
    "\n",
    "A = [[4, 7], [2, 6]]\n",
    "A_inv = inverse_2x2(A)\n"
   ]
  },
  {
   "cell_type": "code",
   "execution_count": 23,
   "metadata": {},
   "outputs": [
    {
     "name": "stdout",
     "output_type": "stream",
     "text": [
      "A matriz inversa: \n",
      "[[ 0.6 -0.7]\n",
      " [-0.2  0.4]].\n"
     ]
    }
   ],
   "source": [
    "# COM NUMPY:\n",
    "A_inv = np.linalg.inv(A)  # Calcula a matriz inversa\n",
    "\n",
    "print(f\"A matriz inversa: \\n{A_inv}.\")"
   ]
  },
  {
   "cell_type": "markdown",
   "metadata": {},
   "source": [
    "### Exercício 3: Verificação de Determinante Zero\n",
    "\n",
    "Verifique se o determinante da matriz 3x3 abaixo é zero e se a matriz tem inversa."
   ]
  },
  {
   "cell_type": "code",
   "execution_count": 39,
   "metadata": {},
   "outputs": [],
   "source": [
    "dsa_matriz_3 = [[1, 1, 1], [2, 2, 2], [3, 3, 3]]"
   ]
  },
  {
   "cell_type": "code",
   "execution_count": 40,
   "metadata": {},
   "outputs": [],
   "source": [
    "matriz_3 = np.array ([[1, 1, 1], [2, 2, 2], [3, 3, 3]])"
   ]
  },
  {
   "cell_type": "code",
   "execution_count": 41,
   "metadata": {},
   "outputs": [],
   "source": [
    "determinante = np.linalg.det(matriz_3)"
   ]
  },
  {
   "cell_type": "code",
   "execution_count": 42,
   "metadata": {},
   "outputs": [
    {
     "name": "stdout",
     "output_type": "stream",
     "text": [
      "Determinante: 0.0\n"
     ]
    }
   ],
   "source": [
    "print(f\"Determinante: {determinante}\")"
   ]
  },
  {
   "cell_type": "code",
   "execution_count": 44,
   "metadata": {},
   "outputs": [
    {
     "name": "stdout",
     "output_type": "stream",
     "text": [
      "A matriz não tem inversa(determinante igual a zero).\n"
     ]
    }
   ],
   "source": [
    "print(\"A matriz tem inversa.\" if determinante != 0 else \"A matriz não tem inversa(determinante igual a zero).\")"
   ]
  },
  {
   "cell_type": "code",
   "execution_count": 29,
   "metadata": {},
   "outputs": [
    {
     "name": "stdout",
     "output_type": "stream",
     "text": [
      "O determinante da matriz\n",
      " [[1 2 8]\n",
      " [3 5 7]\n",
      " [4 6 2]] é -4.0.\n",
      "A matriz possui inversa.\n"
     ]
    }
   ],
   "source": [
    "import numpy as np\n",
    "\n",
    "def verifica_determinante(c):\n",
    "    det = np.linalg.det(c)  # Calcula o determinante da matriz\n",
    "    if det == 0:\n",
    "        raise ValueError(\"A matriz não tem inversa (determinante igual à zero).\")\n",
    "\n",
    "    print(f\"O determinante da matriz\\n {c} é {det}.\")\n",
    "    print(f\"A matriz possui inversa.\")\n",
    "\n",
    "# Matriz corrigida (elementos separados por vírgulas)\n",
    "c = np.array([[1, 2, 8], \n",
    "              [3, 5, 7], \n",
    "              [4, 6, 2]])\n",
    "\n",
    "# Chama a função\n",
    "verifica_determinante(c)"
   ]
  },
  {
   "cell_type": "markdown",
   "metadata": {},
   "source": [
    "### Exercício 4: Cálculo de Matriz Inversa com Numpy\n",
    "\n",
    "Utilize a biblioteca Numpy para calcular a inversa de uma matriz 3x3. Considere esta matriz abaixo para o cálculo. Use try/except para tratar eventuais erros."
   ]
  },
  {
   "cell_type": "code",
   "execution_count": 48,
   "metadata": {},
   "outputs": [],
   "source": [
    "dsa_matriz_4 = np.array([[1, 2, 3], [0, 1, 4], [5, 6, 0]])"
   ]
  },
  {
   "cell_type": "code",
   "execution_count": 49,
   "metadata": {},
   "outputs": [
    {
     "name": "stdout",
     "output_type": "stream",
     "text": [
      "Inversa:\n",
      "[[-24.  18.   5.]\n",
      " [ 20. -15.  -4.]\n",
      " [ -5.   4.   1.]]\n"
     ]
    }
   ],
   "source": [
    "try:\n",
    "    inversa = np.linalg.inv(dsa_matriz_4)\n",
    "    print(f\"Inversa:\\n{inversa}\")\n",
    "except np.linalg.LinAlgError:\n",
    "    print(\"A matriz não tem inversa.\")\n"
   ]
  },
  {
   "cell_type": "code",
   "execution_count": 50,
   "metadata": {},
   "outputs": [
    {
     "name": "stdout",
     "output_type": "stream",
     "text": [
      "A matriz não tem inversa.\n"
     ]
    }
   ],
   "source": [
    "try:\n",
    "    inversa = np.linalg.inv(matriz_3)\n",
    "    print(f\"Inversa:\\n{inversa}\")\n",
    "except np.linalg.LinAlgError:\n",
    "    print(\"A matriz não tem inversa.\")"
   ]
  },
  {
   "cell_type": "markdown",
   "metadata": {},
   "source": [
    "### Exercício 5: Determinante e Inversa de uma Matriz 4x4\n",
    "\n",
    "Calcule o determinante e a inversa da matriz 4x4 abaixo, caso a inversa exista. "
   ]
  },
  {
   "cell_type": "code",
   "execution_count": 51,
   "metadata": {},
   "outputs": [],
   "source": [
    "dsa_matriz_5 = [[1, 0, 2, -1], [3, 0, 0, 5], [2, 1, 4, -3], [1, 0, 5, 0]]"
   ]
  },
  {
   "cell_type": "code",
   "execution_count": 52,
   "metadata": {},
   "outputs": [
    {
     "name": "stdout",
     "output_type": "stream",
     "text": [
      "O determinante da matriz\n",
      " [[ 1  0  2 -1]\n",
      " [ 3  0  0  5]\n",
      " [ 2  1  4 -3]\n",
      " [ 1  0  5  0]] é 30.00.\n",
      "A matriz possui inversa. O determinante é diferente de zero.\n",
      "A matriz inversa é\n",
      " [[ 0.83333333  0.16666667  0.         -0.33333333]\n",
      " [-2.5         0.1         1.          0.2       ]\n",
      " [-0.16666667 -0.03333333  0.          0.26666667]\n",
      " [-0.5         0.1        -0.          0.2       ]].\n"
     ]
    }
   ],
   "source": [
    "def verifica_det(x):\n",
    "    \n",
    "    det = np.linalg.det(x)\n",
    "    # Verifica se a matriz tem inversa\n",
    "    if det == 0:\n",
    "        raise ValueError(\"A matriz não tem inversa (determinante = zero).\")        \n",
    "    \n",
    "    print(f\"O determinante da matriz\\n {x} é {det:.2f}.\")\n",
    "    print(\"A matriz possui inversa. O determinante é diferente de zero.\")\n",
    "    \n",
    "    x_inv = np.linalg.inv(x)\n",
    "    print(f\"A matriz inversa é\\n {x_inv}.\")\n",
    "x = np.array([[1, 0, 2, -1], [3, 0, 0, 5], [2, 1, 4, -3], [1, 0, 5, 0]])\n",
    "verifica_det(x)"
   ]
  },
  {
   "cell_type": "code",
   "execution_count": 53,
   "metadata": {},
   "outputs": [
    {
     "name": "stdout",
     "output_type": "stream",
     "text": [
      "Inversa:\n",
      "[[ 0.83333333  0.16666667  0.         -0.33333333]\n",
      " [-2.5         0.1         1.          0.2       ]\n",
      " [-0.16666667 -0.03333333  0.          0.26666667]\n",
      " [-0.5         0.1        -0.          0.2       ]]\n"
     ]
    }
   ],
   "source": [
    "try:\n",
    "    deteminante= np.linalg.det(x)\n",
    "    inversa = np.linalg.inv(x)\n",
    "    print(f\"Inversa:\\n{inversa}\")\n",
    "except np.linalg.LinAlgError:\n",
    "    print(\"A matriz não tem inversa.\")\n",
    "x = np.array([[1, 0, 2, -1], [3, 0, 0, 5], [2, 1, 4, -3], [1, 0, 5, 0]])    "
   ]
  },
  {
   "cell_type": "code",
   "execution_count": 54,
   "metadata": {},
   "outputs": [
    {
     "name": "stdout",
     "output_type": "stream",
     "text": [
      "A matriz não tem inversa.\n"
     ]
    }
   ],
   "source": [
    "try:\n",
    "    deteminante= np.linalg.det(matriz_3)\n",
    "    inversa = np.linalg.inv(matriz_3)\n",
    "    print(f\"Inversa:\\n{inversa}\")\n",
    "except np.linalg.LinAlgError:\n",
    "    print(\"A matriz não tem inversa.\")\n"
   ]
  },
  {
   "cell_type": "code",
   "execution_count": 55,
   "metadata": {},
   "outputs": [
    {
     "name": "stdout",
     "output_type": "stream",
     "text": [
      "Author: Data Science Academy\n",
      "\n"
     ]
    }
   ],
   "source": [
    "%reload_ext watermark\n",
    "%watermark -a \"Data Science Academy\""
   ]
  },
  {
   "cell_type": "code",
   "execution_count": 56,
   "metadata": {},
   "outputs": [
    {
     "name": "stdout",
     "output_type": "stream",
     "text": [
      "Python implementation: CPython\n",
      "Python version       : 3.9.13\n",
      "IPython version      : 7.31.1\n",
      "\n",
      "Compiler    : GCC 11.2.0\n",
      "OS          : Linux\n",
      "Release     : 5.4.0-205-generic\n",
      "Machine     : x86_64\n",
      "Processor   : x86_64\n",
      "CPU cores   : 4\n",
      "Architecture: 64bit\n",
      "\n"
     ]
    }
   ],
   "source": [
    "%watermark -v -m"
   ]
  },
  {
   "cell_type": "code",
   "execution_count": 57,
   "metadata": {},
   "outputs": [
    {
     "name": "stdout",
     "output_type": "stream",
     "text": [
      "numpy: 1.20.1\n",
      "\n"
     ]
    }
   ],
   "source": [
    "%watermark --iversions"
   ]
  },
  {
   "cell_type": "markdown",
   "metadata": {},
   "source": [
    "## Fim"
   ]
  }
 ],
 "metadata": {
  "kernelspec": {
   "display_name": "Python 3 (ipykernel)",
   "language": "python",
   "name": "python3"
  },
  "language_info": {
   "codemirror_mode": {
    "name": "ipython",
    "version": 3
   },
   "file_extension": ".py",
   "mimetype": "text/x-python",
   "name": "python",
   "nbconvert_exporter": "python",
   "pygments_lexer": "ipython3",
   "version": "3.9.13"
  }
 },
 "nbformat": 4,
 "nbformat_minor": 2
}
