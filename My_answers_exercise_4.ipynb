{
 "cells": [
  {
   "cell_type": "markdown",
   "id": "e338ddac",
   "metadata": {},
   "source": [
    "# RESOLUÇÃO DO LAB4:"
   ]
  },
  {
   "cell_type": "code",
   "execution_count": 12,
   "id": "802da0ed",
   "metadata": {},
   "outputs": [],
   "source": [
    "# Para atualizar um pacote, execute o comando abaixo no terminal ou prompt de comando:\n",
    "# pip install -U nome_pacote\n",
    "\n",
    "# Para instalar a versão exata de um pacote, execute o comando abaixo no terminal ou prompt de comando:\n",
    "# !pip install nome_pacote==versão_desejada\n",
    "\n",
    "# Depois de instalar ou atualizar o pacote, reinicie o jupyter notebook.\n",
    "\n",
    "# Instala o pacote watermark. \n",
    "# Esse pacote é usado para gravar as versões de outros pacotes usados neste jupyter notebook.\n",
    "!pip install -q -U watermark"
   ]
  },
  {
   "cell_type": "code",
   "execution_count": 22,
   "id": "082d4c6f",
   "metadata": {},
   "outputs": [],
   "source": [
    "# Imports\n",
    "import numpy as np\n",
    "import scipy\n",
    "import matplotlib.pyplot as plt\n",
    "from mpl_toolkits.mplot3d import Axes3D\n"
   ]
  },
  {
   "cell_type": "code",
   "execution_count": 23,
   "id": "64f4bf0a",
   "metadata": {},
   "outputs": [
    {
     "name": "stdout",
     "output_type": "stream",
     "text": [
      "Author: Data Science Academy\n",
      "\n"
     ]
    }
   ],
   "source": [
    "# Versões dos pacotes usados neste jupyter notebook\n",
    "%reload_ext watermark\n",
    "%watermark -a \"Data Science Academy\" "
   ]
  },
  {
   "cell_type": "markdown",
   "id": "3a2b75fe",
   "metadata": {},
   "source": [
    "# Exercício 1: Produto Escalar em Aplicação Prática"
   ]
  },
  {
   "cell_type": "markdown",
   "id": "ff6b13b1",
   "metadata": {},
   "source": [
    "'''Descrição: Dados dois vetores que representam preferências de us '''uários em três categorias diferentes user1 = [4, 3, 2] e user2 = [1, 5, 4], calcule a similaridade entre esses usuários usando o produto escalar."
   ]
  },
  {
   "cell_type": "code",
   "execution_count": 25,
   "id": "c4bd2a94",
   "metadata": {},
   "outputs": [
    {
     "name": "stdout",
     "output_type": "stream",
     "text": [
      "27\n"
     ]
    }
   ],
   "source": [
    "user1 = [4, 3, 2]\n",
    "user2 = [1, 5, 4]\n",
    "\n",
    "resultado = np.dot(user1, user2)\n",
    "print(resultado)"
   ]
  },
  {
   "cell_type": "markdown",
   "id": "fd9ee44b",
   "metadata": {},
   "source": [
    "# No contexto de similaridade de usuários, usuários com interesses semelhantes teriam um produto escalar positivo e alto."
   ]
  },
  {
   "cell_type": "code",
   "execution_count": 26,
   "id": "71ad45ad",
   "metadata": {},
   "outputs": [
    {
     "name": "stdout",
     "output_type": "stream",
     "text": [
      "27\n"
     ]
    }
   ],
   "source": [
    "# RESOLUÇÃO PROPOSTA:\n",
    "# Vetores\n",
    "user1 = np.array([4, 3, 2])\n",
    "user2 = np.array([1, 5, 4])\n",
    "\n",
    "# Produto escalar\n",
    "similaridade = np.dot(user1, user2)\n",
    "print(similaridade)\n"
   ]
  },
  {
   "cell_type": "markdown",
   "id": "04bf6405",
   "metadata": {},
   "source": [
    "'''O produto escalar entre dois vetores, também conhecido como produto interno ou dot product, é uma operação matemática que resulta em um único número. Este número é uma medida de certos tipos de similaridade entre os dois vetores. Agora, interpretando o valor de 27:\n",
    "\n",
    "Magnitude da Similaridade: O valor absoluto (27 neste caso) indica a magnitude da similaridade. Quanto maior esse número, maior é a similaridade sob a métrica específica que o produto escalar representa.\n",
    "\n",
    "Direção e Orientação: O produto escalar é positivo quando os vetores apontam na mesma direção geral e negativo quando apontam em direções opostas. Um valor de 27, sendo positivo, sugere que user1 e user2 têm uma orientação geral semelhante no espaço vetorial considerado.\n",
    "\n",
    "Contexto Específico: A interpretação mais precisa depende do contexto onde esses vetores são aplicados. Por exemplo, se estes vetores representam preferências ou características em um sistema de recomendação, um valor alto pode indicar uma alta similaridade nessas preferências ou características.\n",
    "\n",
    "Normalização: É importante considerar a magnitude dos vetores originais. Se os vetores forem muito grandes, até mesmo vetores relativamente diferentes podem ter um produto escalar alto. Em muitos casos, é útil normalizar os vetores antes de calcular o produto escalar para obter uma medida de similaridade mais significativa.'''"
   ]
  },
  {
   "cell_type": "markdown",
   "id": "31218a74",
   "metadata": {},
   "source": [
    "# Exercício 2: Multiplicação de Escalar por Vetor em Dados Reais"
   ]
  },
  {
   "cell_type": "markdown",
   "id": "204d371e",
   "metadata": {},
   "source": [
    "'''Descrição: Dada uma série de preços de ações prices = [120, 125, 130, 128, 135], ajuste os preços em 15% e calcule o novo preço das ações.'''"
   ]
  },
  {
   "cell_type": "code",
   "execution_count": 27,
   "id": "29f37b62",
   "metadata": {},
   "outputs": [
    {
     "name": "stdout",
     "output_type": "stream",
     "text": [
      "Preço das ações = [120 125 130 128 135].\n",
      "Ajuste de preços = 15%.\n",
      "Novo preço das ações = [138.   143.75 149.5  147.2  155.25].\n"
     ]
    }
   ],
   "source": [
    "acoes_prices = [120, 125, 130, 128, 135]\n",
    "valor_escalar = 15\n",
    "preco_acoes = np.array([120, 125, 130, 128, 135])\n",
    "resultado = (valor_escalar / 100 + 1) * preco_acoes\n",
    "print(f\"Preço das ações = {np.round(preco_acoes, 2)}.\")\n",
    "print(f\"Ajuste de preços = {valor_escalar}%.\")\n",
    "print(f\"Novo preço das ações = {np.round(resultado, 2)}.\")\n"
   ]
  },
  {
   "cell_type": "markdown",
   "id": "835b57b8",
   "metadata": {},
   "source": [
    "\n",
    "# Exercício 3: Otimização de Produto Escalar"
   ]
  },
  {
   "cell_type": "markdown",
   "id": "da15d1e7",
   "metadata": {},
   "source": [
    "'''Descrição: Encontre o vetor unitário que maximiza o produto escalar com o vetor v = [3, 4, 5]. Use técnicas de otimização para encontrar a solução.'''"
   ]
  },
  {
   "cell_type": "markdown",
   "id": "18982a38",
   "metadata": {},
   "source": [
    "'''A técnica de otimização de produto escalar envolve o uso de operações de produto escalar em diferentes contextos dentro de algoritmos de otimização. Em particular, ela é comumente usada em algoritmos de aprendizado de máquina e redes neurais.'''"
   ]
  },
  {
   "cell_type": "code",
   "execution_count": 28,
   "id": "690c6e0c",
   "metadata": {},
   "outputs": [
    {
     "name": "stdout",
     "output_type": "stream",
     "text": [
      "norma_v 7.0710678118654755\n",
      "Vetor unitário: [0.42426407 0.56568542 0.70710678]\n",
      "Norma do vetor unitário: 0.9999999999999999\n"
     ]
    }
   ],
   "source": [
    "# A normalização é o processo de dividir o vetor por sua norma (magnitude),\n",
    "# de modo que o vetor resultante tenha comprimento 1.\n",
    "\n",
    "# Definindo um vetor qualquer\n",
    "v = np.array([3, 4, 5])\n",
    "\n",
    "# Calculando a norma do vetor\n",
    "norma_v = np.linalg.norm(v)\n",
    "print(f\"norma_v\", norma_v)\n",
    "\n",
    "# Obtendo o vetor unitário (normalizado)\n",
    "u = v / norma_v\n",
    "\n",
    "print(\"Vetor unitário:\", u)\n",
    "print(\"Norma do vetor unitário:\", np.linalg.norm(u))  # Deve ser 1"
   ]
  },
  {
   "cell_type": "markdown",
   "id": "ba7de435",
   "metadata": {},
   "source": [
    "# Exercício 4: Produto Vetorial e Direção Normal"
   ]
  },
  {
   "cell_type": "markdown",
   "id": "fe5d557e",
   "metadata": {},
   "source": [
    "'''Descrição: Dados três pontos no espaço 3D A = [1, 2, 3], B = [4, 5, 6], e C = [7, 8, 9], encontre um vetor normal ao plano definido por esses três pontos.'''"
   ]
  },
  {
   "cell_type": "code",
   "execution_count": 29,
   "id": "43c194f5",
   "metadata": {},
   "outputs": [
    {
     "name": "stdout",
     "output_type": "stream",
     "text": [
      "[0 0 0]\n"
     ]
    }
   ],
   "source": [
    "# Definição dos pontos\n",
    "A = np.array([1, 2, 3])\n",
    "B = np.array([4, 5, 6])\n",
    "C = np.array([7, 8, 9])\n",
    "\n",
    "# Cálculo dos vetores direcionais a partir dos pontos\n",
    "AB = B - A\n",
    "AC = C - A\n",
    "\n",
    "# Cálculo do produto vetorial para encontrar o vetor normal\n",
    "vetor_normal = np.cross(AB, AC)\n",
    "print(vetor_normal)"
   ]
  },
  {
   "cell_type": "markdown",
   "id": "75eaf767",
   "metadata": {},
   "source": [
    "# Exercício 5: Produto Vetorial em Análise de Dados\n",
    "Descrição: Em um conjunto de dados 3D com pontos p1 = [1, 2, 3], p2 = [4, 5, 6], e p3 = [7, 8, 9], encontre o vetor normal ao plano formado por esses três pontos e interprete seu significado em termos de orientação do plano."
   ]
  },
  {
   "cell_type": "code",
   "execution_count": 30,
   "id": "914779ae",
   "metadata": {},
   "outputs": [
    {
     "name": "stdout",
     "output_type": "stream",
     "text": [
      "[0 0 0]\n"
     ]
    },
    {
     "data": {
      "image/png": "[encoded data removed]",
      "text/plain": [
       "<Figure size 640x480 with 1 Axes>"
      ]
     },
     "metadata": {},
     "output_type": "display_data"
    }
   ],
   "source": [
    "# Definição dos pontos\n",
    "p1 = np.array([1, 2, 3])\n",
    "p2 = np.array([4, 5, 6])\n",
    "p3 = np.array([7, 8, 9])\n",
    "\n",
    "# Cálculo dos vetores direcionais a partir dos pontos\n",
    "p1p2 = p1 - p2\n",
    "p1p3 = p1 - p3\n",
    "\n",
    "# Cálculo do produto vetorial para encontrar o vetor normal\n",
    "vetor_normal = np.cross(p1p2, p1p3)\n",
    "print(vetor_normal)\n",
    "\n",
    "# Criando o gráfico 3D\n",
    "fig = plt.figure()\n",
    "ax = fig.add_subplot(111, projection='3d')\n",
    "\n",
    "# Plotando os pontos\n",
    "ax.scatter(*p1, color='red', label=\"P1 (Origem)\")\n",
    "ax.scatter(*p2, color='blue', label=\"P2\")\n",
    "ax.scatter(*p3, color='green', label=\"P3\")\n",
    "\n",
    "# Plotando os vetores p1p2 e p1p3\n",
    "ax.quiver(*p1, *p1p2, color='blue', label=\"p1p2\", arrow_length_ratio=0.1)\n",
    "ax.quiver(*p1, *p1p3, color='green', label=\"p1p3\", arrow_length_ratio=0.1)\n",
    "\n",
    "# Plotando o vetor normal ao plano\n",
    "ax.quiver(*p1, *vetor_normal, color='purple', label=\"Normal\", arrow_length_ratio=0.1)\n",
    "\n",
    "# Configuração do gráfico\n",
    "ax.set_xlabel('X')\n",
    "ax.set_ylabel('Y')\n",
    "ax.set_zlabel('Z')\n",
    "ax.legend()\n",
    "ax.set_title(\"Vetores e Vetor Normal\")\n",
    "\n",
    "plt.show()"
   ]
  },
  {
   "cell_type": "markdown",
   "id": "ec6c7ae8",
   "metadata": {},
   "source": [
    "'''O vetor normal ao plano definido pelos pontos A = [1, 2, 3], B = [4, 5, 6], e C = [7, 8, 9] resultou em [0, 0, 0]. Isso ocorre porque os pontos A, B, e C são colineares no espaço 3D, ou seja, eles estão alinhados em uma única linha reta. Portanto, não formam um plano distinto no qual um vetor normal único possa ser definido.\n",
    "\n",
    "Em termos geométricos, quando três pontos são colineares, os vetores que os conectam (neste caso, AB e AC) são paralelos ou antiparalelos. O produto vetorial de dois vetores paralelos ou antiparalelos é sempre zero, o que explica o resultado obtido.'''"
   ]
  },
  {
   "cell_type": "code",
   "execution_count": 31,
   "id": "f7b63179",
   "metadata": {},
   "outputs": [
    {
     "name": "stdout",
     "output_type": "stream",
     "text": [
      "Python implementation: CPython\n",
      "Python version       : 3.9.13\n",
      "IPython version      : 7.31.1\n",
      "\n",
      "Compiler    : GCC 11.2.0\n",
      "OS          : Linux\n",
      "Release     : 5.4.0-205-generic\n",
      "Machine     : x86_64\n",
      "Processor   : x86_64\n",
      "CPU cores   : 4\n",
      "Architecture: 64bit\n",
      "\n"
     ]
    }
   ],
   "source": [
    "%watermark -v -m"
   ]
  },
  {
   "cell_type": "code",
   "execution_count": 32,
   "id": "227f719b",
   "metadata": {},
   "outputs": [
    {
     "name": "stdout",
     "output_type": "stream",
     "text": [
      "numpy     : 1.20.1\n",
      "matplotlib: 3.3.4\n",
      "scipy     : 1.9.1\n",
      "\n"
     ]
    }
   ],
   "source": [
    "%watermark --iversions"
   ]
  }
 ],
 "metadata": {
  "kernelspec": {
   "display_name": "Python 3 (ipykernel)",
   "language": "python",
   "name": "python3"
  },
  "language_info": {
   "codemirror_mode": {
    "name": "ipython",
    "version": 3
   },
   "file_extension": ".py",
   "mimetype": "text/x-python",
   "name": "python",
   "nbconvert_exporter": "python",
   "pygments_lexer": "ipython3",
   "version": "3.9.13"
  }
 },
 "nbformat": 4,
 "nbformat_minor": 5
}
