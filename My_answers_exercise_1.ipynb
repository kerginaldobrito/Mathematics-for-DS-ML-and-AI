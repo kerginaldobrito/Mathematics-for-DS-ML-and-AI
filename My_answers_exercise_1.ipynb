{
 "cells": [
  {
   "cell_type": "markdown",
   "metadata": {},
   "source": [
    "<!-- Projeto Desenvolvido na Data Science Academy - www.datascienceacademy.com.br -->\n",
    "# <font color='blue'>Data Science Academy</font>\n",
    "## <font color='blue'>Matemática e Estatística Aplicada Para Data Science, Machine Learning e IA</font>\n",
    "## <font color='blue'>Lista de Exercícios 1</font>\n",
    "## <font color='blue'>Matemática Fundamental com Linguagem Python</font>"
   ]
  },
  {
   "cell_type": "markdown",
   "metadata": {},
   "source": [
    "### Instalando e Carregando Pacotes"
   ]
  },
  {
   "cell_type": "code",
   "execution_count": 1,
   "metadata": {},
   "outputs": [],
   "source": [
    "# Para atualizar um pacote, execute o comando abaixo no terminal ou prompt de comando:\n",
    "# pip install -U nome_pacote\n",
    "\n",
    "# Para instalar a versão exata de um pacote, execute o comando abaixo no terminal ou prompt de comando:\n",
    "# !pip install nome_pacote==versão_desejada\n",
    "\n",
    "# Depois de instalar ou atualizar o pacote, reinicie o jupyter notebook.\n",
    "\n",
    "# Instala o pacote watermark. \n",
    "# Esse pacote é usado para gravar as versões de outros pacotes usados neste jupyter notebook.\n",
    "!pip install -q -U watermark"
   ]
  },
  {
   "cell_type": "code",
   "execution_count": 2,
   "metadata": {},
   "outputs": [
    {
     "name": "stdout",
     "output_type": "stream",
     "text": [
      "Author: Data Science Academy\n",
      "\n"
     ]
    }
   ],
   "source": [
    "# Versões dos pacotes usados neste jupyter notebook\n",
    "%reload_ext watermark\n",
    "%watermark -a \"Data Science Academy\" --iversions"
   ]
  },
  {
   "cell_type": "code",
   "execution_count": 3,
   "metadata": {},
   "outputs": [],
   "source": [
    "import math"
   ]
  },
  {
   "cell_type": "markdown",
   "metadata": {},
   "source": [
    "**Resolva os exercícios abaixo usando Linguagem Python. Faça pesquisa complementar se necessário.**"
   ]
  },
  {
   "cell_type": "markdown",
   "metadata": {},
   "source": [
    "### Exercício 1: Cálculo de Área de um Círculo\n",
    "\n",
    "Escreva um programa que calcula a área de um círculo. O usuário deve fornecer o raio e o programa deve retornar a área."
   ]
  },
  {
   "cell_type": "code",
   "execution_count": 4,
   "metadata": {},
   "outputs": [
    {
     "name": "stdout",
     "output_type": "stream",
     "text": [
      "Digite o valor do raio(cm): 2\n",
      "Para um raio igual à 2.0 un, a área é igual à 12.57 un2\n"
     ]
    }
   ],
   "source": [
    "r = float(input('Digite o valor do raio(cm): '))\n",
    "a = math.pi * r ** 2\n",
    "print(f\"Para um raio igual à {r} un, a área é igual à {a:.2f} un2\")"
   ]
  },
  {
   "cell_type": "code",
   "execution_count": 5,
   "metadata": {},
   "outputs": [
    {
     "name": "stdout",
     "output_type": "stream",
     "text": [
      "Digite o valor do raio(cm): 2\n",
      "Para um raio igual à 2.0 cm, a área é igual à 12.57 cm2\n"
     ]
    }
   ],
   "source": [
    "# Usando FUNÇÃO:\n",
    "import math\n",
    "def area(raio):\n",
    "    return math.pi * raio ** 2\n",
    "raio = float(input('Digite o valor do raio(cm): '))\n",
    "print(f\"Para um raio igual à {raio} cm, a área é igual à {area(raio):.2f} cm2\")"
   ]
  },
  {
   "cell_type": "markdown",
   "metadata": {},
   "source": [
    "### Exercício 2: Conversão de Temperatura\n",
    "\n",
    "Crie uma função que converte a temperatura de Celsius para Fahrenheit e vice-versa. O usuário deve informar a temperatura e a escala de origem."
   ]
  },
  {
   "cell_type": "code",
   "execution_count": 5,
   "metadata": {},
   "outputs": [
    {
     "name": "stdout",
     "output_type": "stream",
     "text": [
      "Digite o valor da temperatura em Celsius: 30\n",
      "A temperatura equivalente à 30.0 Celsius é igual à 86.00 Fahrenheit\n"
     ]
    }
   ],
   "source": [
    "# c - Temperatura em Celsius\n",
    "# f - Temperatura em Fahrenheit\n",
    "c = float(input('Digite o valor da temperatura em Celsius: '))\n",
    "f = (c * 9/5) + 32\n",
    "print(f\"A temperatura equivalente à {c} Celsius é igual à {f:.2f} Fahrenheit\")"
   ]
  },
  {
   "cell_type": "code",
   "execution_count": 6,
   "metadata": {},
   "outputs": [
    {
     "name": "stdout",
     "output_type": "stream",
     "text": [
      "Digite o valor da temperatura em Fahrenheit: 86\n",
      "A temperatura equivalente à 86.0 Fahrenheit é igual à 30.00 Celsius.\n"
     ]
    }
   ],
   "source": [
    "# c1 - Temperatura em Celsius\n",
    "# f1 - Temperatura em Fahrenheit\n",
    "f1 = float(input('Digite o valor da temperatura em Fahrenheit: '))\n",
    "c1 = (5 * f1 -160) / 9\n",
    "print(f\"A temperatura equivalente à {f1} Fahrenheit é igual à {c1:.2f} Celsius.\")"
   ]
  },
  {
   "cell_type": "code",
   "execution_count": 9,
   "metadata": {},
   "outputs": [
    {
     "name": "stdout",
     "output_type": "stream",
     "text": [
      "Digite a temperatura: 30\n",
      "Digite a escala (C para Celsius ou F para Fanhrenheit): c\n",
      "Temperatura em Fanhrenheit = 86.0\n"
     ]
    }
   ],
   "source": [
    "# Usando uma só função:\n",
    "def celsius_para_fahrenheit(c):\n",
    "    return (c * 9/5) + 32\n",
    "    \n",
    "def fahrenheit_para_celsius(f):\n",
    "    return (f - 32) * 5/9\n",
    "\n",
    "temp = float(input('Digite a temperatura: '))\n",
    "escala = input('Digite a escala (C para Celsius ou F para Fanhrenheit): ')\n",
    "if escala.upper() == 'C':\n",
    "    print(f\"Temperatura em Fanhrenheit = {celsius_para_fahrenheit(temp):.1f}\")\n",
    "else:\n",
    "    print(f\"Temperatura em Celsius = {fahrenheit_para_celsius(temp):.1f} \")"
   ]
  },
  {
   "cell_type": "code",
   "execution_count": 10,
   "metadata": {},
   "outputs": [
    {
     "name": "stdout",
     "output_type": "stream",
     "text": [
      "Digite a temperatura: 86\n",
      "Digite a escala (C para Celsius ou F para Fanhrenheit): f\n",
      "Temperatura em Celsius = 30.0 \n"
     ]
    }
   ],
   "source": [
    "# Usando uma só função:\n",
    "def celsius_para_fahrenheit(c):\n",
    "    return (c * 9/5) + 32\n",
    "    \n",
    "def fahrenheit_para_celsius(f):\n",
    "    return (f - 32) * 5/9\n",
    "\n",
    "temp = float(input('Digite a temperatura: '))\n",
    "escala = input('Digite a escala (C para Celsius ou F para Fanhrenheit): ')\n",
    "if escala.upper() == 'C':\n",
    "    print(f\"Temperatura em Fanhrenheit = {celsius_para_fahrenheit(temp):.1f}\")\n",
    "else:\n",
    "    print(f\"Temperatura em Celsius = {fahrenheit_para_celsius(temp):.1f} \")"
   ]
  },
  {
   "cell_type": "markdown",
   "metadata": {},
   "source": [
    "### Exercício 3: Resolver uma Equação Linear\n",
    "\n",
    "Faça um programa que resolve uma equação linear do tipo ax + b = 0. Os valores de a e b são fornecidos pelo usuário."
   ]
  },
  {
   "cell_type": "code",
   "execution_count": 7,
   "metadata": {},
   "outputs": [
    {
     "name": "stdout",
     "output_type": "stream",
     "text": [
      "digite o valor de a: 5\n",
      "digite o valor de b: 2\n",
      "Para a =5.0 e b =2.0, o valor de x =-0.4.\n"
     ]
    }
   ],
   "source": [
    "a = float(input('digite o valor de a: '))\n",
    "b = float(input('digite o valor de b: '))\n",
    "x = -b / a\n",
    "print(f\"Para a ={a} e b ={b}, o valor de x ={x}.\")"
   ]
  },
  {
   "cell_type": "code",
   "execution_count": 11,
   "metadata": {},
   "outputs": [
    {
     "name": "stdout",
     "output_type": "stream",
     "text": [
      "digite o valor de a: 5\n",
      "digite o valor de b: 2\n",
      "Solução da equação -0.4\n"
     ]
    }
   ],
   "source": [
    "def equacao_linear(a,b):\n",
    "    if a == 0:\n",
    "        return \"Sem solução\" if b != 0 else \"Soluções infinitas\" \n",
    "    return -b / a\n",
    "a = float(input('digite o valor de a: '))\n",
    "b = float(input('digite o valor de b: '))\n",
    "print(\"Solução da equação\", equacao_linear(a,b))"
   ]
  },
  {
   "cell_type": "markdown",
   "metadata": {},
   "source": [
    "### Exercício 4: Cálculo de Média Aritmética\n",
    "\n",
    "Escreva um programa que calcula a média aritmética de uma lista de números fornecida pelo usuário."
   ]
  },
  {
   "cell_type": "code",
   "execution_count": 8,
   "metadata": {},
   "outputs": [
    {
     "name": "stdout",
     "output_type": "stream",
     "text": [
      "Digite os números separados por espaço: 1 2 8 6 15\n",
      "[1, 2, 8, 6, 15]\n",
      "A média aritmética é: 6.40\n"
     ]
    }
   ],
   "source": [
    "numeros = list(map(int, input(\"Digite os números separados por espaço: \").split()))\n",
    "print(numeros)\n",
    "if numeros:\n",
    "    media = sum(numeros) / len(numeros)\n",
    "    print(f\"A média aritmética é: {media:.2f}\")\n",
    "else:\n",
    "    print(\"Nenhum número foi inserido.\")\n"
   ]
  },
  {
   "cell_type": "code",
   "execution_count": 12,
   "metadata": {},
   "outputs": [
    {
     "name": "stdout",
     "output_type": "stream",
     "text": [
      "Digite uma lista de números separados por espaço: 1 2 8 6 15\n",
      "Media aritmética: 6.4\n"
     ]
    }
   ],
   "source": [
    "def media_aritmética(numeros):\n",
    "    return sum(numeros) / len(numeros)\n",
    "# list comprehension:\n",
    "numeros = [float(n) for n in input(\"Digite uma lista de números separados por espaço: \").split()]\n",
    "print(\"Media aritmética:\", media_aritmética(numeros))"
   ]
  },
  {
   "cell_type": "markdown",
   "metadata": {},
   "source": [
    "### Exercício 5: Determinar as Raízes de uma Equação Quadrática\n",
    "\n",
    "Crie um programa que encontra as raízes de uma equação quadrática do tipo ax^2 + bx + c = 0. O programa deve lidar com todos os tipos de raízes (reais e complexas)."
   ]
  },
  {
   "cell_type": "code",
   "execution_count": 9,
   "metadata": {},
   "outputs": [
    {
     "name": "stdout",
     "output_type": "stream",
     "text": [
      "A equação possui 2 raízes reais: x1 = 2.0 e x2 = 1.0.\n"
     ]
    }
   ],
   "source": [
    "def baskara(a, b, c):\n",
    "    delta = b**2 - 4 * a * c\n",
    "    \n",
    "    if delta > 0:\n",
    "        x1 = (-b + math.sqrt(delta))/ 2 * a\n",
    "        x2 = (-b - math.sqrt(delta))/ 2 * a\n",
    "        print(f\"A equação possui 2 raízes reais: x1 = {x1} e x2 = {x2}.\")\n",
    "    elif delta < 0:\n",
    "        print(f\"A equação não possui raízes reais. As raízes pertences ao conjunto dos números complexos.\")\n",
    "    else:\n",
    "        x = (-b + math.sqrt(delta))/ 2 * a\n",
    "        print(f\"A equação possui apenas uma raiz igual à {x}\")\n",
    "        \n",
    "baskara(1, -3, 2)\n"
   ]
  },
  {
   "cell_type": "markdown",
   "metadata": {},
   "source": [
    "### Exercício 6: Calcular o Fatorial de um Número\n",
    "\n",
    "Escreva uma função que calcula o fatorial de um número inteiro fornecido pelo usuário."
   ]
  },
  {
   "cell_type": "code",
   "execution_count": 10,
   "metadata": {},
   "outputs": [
    {
     "name": "stdout",
     "output_type": "stream",
     "text": [
      "Digite um número ineiro positivo; 6\n",
      "O fatorial de 6 é 720\n"
     ]
    }
   ],
   "source": [
    "# Usando RECURSÃO:\n",
    "def fatorial(n):\n",
    "    if n == 0 or n == 1:\n",
    "        return 1\n",
    "    return n * fatorial(n-1)\n",
    "n = int(input('Digite um número ineiro positivo; '))\n",
    "if n < 0:\n",
    "    print(\"Fatorial não é definido para números negativos.\")\n",
    "else:\n",
    "    print(f\"O fatorial de {n} é {fatorial(n)}\")    \n",
    "    "
   ]
  },
  {
   "cell_type": "code",
   "execution_count": 11,
   "metadata": {},
   "outputs": [
    {
     "name": "stdout",
     "output_type": "stream",
     "text": [
      "Digite um número inteiro positivo: 6\n",
      "O fatorial de 6 é 720\n"
     ]
    }
   ],
   "source": [
    "# Usando math.factorial() (mais eficiente)\n",
    "\n",
    "num = int(input(\"Digite um número inteiro positivo: \"))\n",
    "if num < 0:\n",
    "    print(\"Fatorial não é definido para números negativos.\")\n",
    "else:\n",
    "    resultado = math.factorial(num)\n",
    "    print(f\"O fatorial de {num} é {resultado}\")\n"
   ]
  },
  {
   "cell_type": "markdown",
   "metadata": {},
   "source": [
    "### Exercício 7: Sequência de Fibonacci\n",
    "\n",
    "Crie um programa que gera a sequência de Fibonacci até um determinado número n fornecido pelo usuário."
   ]
  },
  {
   "cell_type": "code",
   "execution_count": 12,
   "metadata": {},
   "outputs": [
    {
     "name": "stdout",
     "output_type": "stream",
     "text": [
      "Digite a posição final para encontrar a Sequência de Fibonacci: 6\n",
      "Sequência de Fibonacci até 6 é:\n",
      "0,1,1,2,3,5,"
     ]
    }
   ],
   "source": [
    "n = int(input('Digite a posição final para encontrar a Sequência de Fibonacci: '))\n",
    "n1 = 0\n",
    "n2 = 1\n",
    "count = 0\n",
    "if n < 0:\n",
    "    print('A posição não pode ser negativa.')\n",
    "elif n == 1:\n",
    "    print(\"Sequência de Fibonacci até\", n, \"é:\")\n",
    "    print(n1)\n",
    "else: \n",
    "    print(\"Sequência de Fibonacci até\", n, \"é:\")\n",
    "    while count < n:\n",
    "# O primeiro print(1, end=', ') imprime 1, e NÃO pula linha.       \n",
    "        print(n1, end = ',')\n",
    "        nth = n1 + n2   \n",
    "        n1 = n2\n",
    "        n2 = nth\n",
    "        count += 1"
   ]
  },
  {
   "cell_type": "code",
   "execution_count": 15,
   "metadata": {},
   "outputs": [
    {
     "name": "stdout",
     "output_type": "stream",
     "text": [
      "Digite o número de termos da sequência de Fibonacci: 6\n",
      "Sequência de Fibonacci [0, 1, 1, 2, 3, 5]\n"
     ]
    }
   ],
   "source": [
    "def fibonacci(n):\n",
    "    a, b = 0 , 1\n",
    "# Quando a variável de iteração não é necessária. \n",
    "    for _ in range(n):\n",
    "# Com yield: os valores são gerados um por um, economizando memória.\n",
    "        yield a\n",
    "        a, b = b, a + b\n",
    "n = int(input('Digite o número de termos da sequência de Fibonacci: '))\n",
    "print(\"Sequência de Fibonacci\", list(fibonacci(n)))"
   ]
  },
  {
   "cell_type": "markdown",
   "metadata": {},
   "source": [
    "### Exercício 8: Cálculo de Juros Compostos\n",
    "\n",
    "Faça um programa que calcula o montante final de um investimento com juros compostos. O usuário deve fornecer o capital inicial, a taxa de juros anual, e o número de anos."
   ]
  },
  {
   "cell_type": "code",
   "execution_count": 13,
   "metadata": {},
   "outputs": [
    {
     "name": "stdout",
     "output_type": "stream",
     "text": [
      "Digite o valor do capital inicial a ser investido em reais: 10000.00\n",
      "Digite a taxa de juros anual em porcentagem: 15\n",
      "Digite o número de anos do investimento: 2\n",
      "Investindo R$10000.00 a uma taxa de juros de 15.00% durante 2.0 anos, o montante será de R$13225.00.\n"
     ]
    }
   ],
   "source": [
    "capital_inicial = float(input('Digite o valor do capital inicial a ser investido em reais: '))\n",
    "taxa_juros_anual = float(input('Digite a taxa de juros anual em porcentagem: '))\n",
    "numero_anos = float(input('Digite o número de anos do investimento: '))\n",
    "montante = capital_inicial *(1 + taxa_juros_anual / 100)**numero_anos\n",
    "print(f\"Investindo R${capital_inicial:.2f} a uma taxa de juros de {taxa_juros_anual:.2f}% durante {numero_anos} anos, o montante será de R${montante:.2f}.\")"
   ]
  },
  {
   "cell_type": "code",
   "execution_count": null,
   "metadata": {},
   "outputs": [],
   "source": [
    "def juros_compostos(capital_inicial, taxa_juros_anual, numero_anos):\n",
    "    \n",
    "    \n",
    "    \n",
    "    "
   ]
  },
  {
   "cell_type": "markdown",
   "metadata": {},
   "source": [
    "### Exercício 9: Conversão de Moedas\n",
    "\n",
    "Escreva um programa que converte uma quantidade de uma moeda (como dólar) para outra (como euro), considerando uma taxa de câmbio fornecida pelo usuário."
   ]
  },
  {
   "cell_type": "code",
   "execution_count": 15,
   "metadata": {},
   "outputs": [
    {
     "name": "stdout",
     "output_type": "stream",
     "text": [
      "Digite o valor em dolar a ser convertido: 10000.00\n",
      "Digite a taxa de câmbio: 0.96\n",
      "US$10000.00 equivalem a €9600.00\n"
     ]
    }
   ],
   "source": [
    "valor_dolar = float(input('Digite o valor em dolar a ser convertido: '))\n",
    "cambio = float(input('Digite a taxa de câmbio: '))\n",
    "cambio = round(cambio, 2)\n",
    "valor_euro = valor_dolar * cambio\n",
    "print(f\"US${valor_dolar:.2f} equivalem a €{valor_euro:.2f}\")"
   ]
  },
  {
   "cell_type": "code",
   "execution_count": null,
   "metadata": {},
   "outputs": [],
   "source": [
    "def converter_moeda(valor_dolar, cambio)"
   ]
  },
  {
   "cell_type": "markdown",
   "metadata": {},
   "source": [
    "### Exercício 10: Verificar se um Número é Primo\n",
    "\n",
    "Crie uma função que verifica se um número fornecido pelo usuário é primo ou não."
   ]
  },
  {
   "cell_type": "code",
   "execution_count": 16,
   "metadata": {},
   "outputs": [
    {
     "data": {
      "text/plain": [
       "True"
      ]
     },
     "execution_count": 16,
     "metadata": {},
     "output_type": "execute_result"
    }
   ],
   "source": [
    "def eh_primo(n):\n",
    "    if n < 2:\n",
    "        return False\n",
    "    for i in range(2, n):\n",
    "        if n % i == 0:\n",
    "            return False\n",
    "    return True\n",
    "eh_primo(157)"
   ]
  },
  {
   "cell_type": "code",
   "execution_count": 17,
   "metadata": {},
   "outputs": [
    {
     "name": "stdout",
     "output_type": "stream",
     "text": [
      "Author: Data Science Academy\n",
      "\n"
     ]
    }
   ],
   "source": [
    "%reload_ext watermark\n",
    "%watermark -a \"Data Science Academy\""
   ]
  },
  {
   "cell_type": "code",
   "execution_count": 18,
   "metadata": {},
   "outputs": [
    {
     "name": "stdout",
     "output_type": "stream",
     "text": [
      "Python implementation: CPython\n",
      "Python version       : 3.9.13\n",
      "IPython version      : 7.31.1\n",
      "\n",
      "Compiler    : GCC 11.2.0\n",
      "OS          : Linux\n",
      "Release     : 5.4.0-205-generic\n",
      "Machine     : x86_64\n",
      "Processor   : x86_64\n",
      "CPU cores   : 4\n",
      "Architecture: 64bit\n",
      "\n"
     ]
    }
   ],
   "source": [
    "%watermark -v -m"
   ]
  },
  {
   "cell_type": "markdown",
   "metadata": {},
   "source": [
    "# Fim"
   ]
  }
 ],
 "metadata": {
  "kernelspec": {
   "display_name": "Python 3 (ipykernel)",
   "language": "python",
   "name": "python3"
  },
  "language_info": {
   "codemirror_mode": {
    "name": "ipython",
    "version": 3
   },
   "file_extension": ".py",
   "mimetype": "text/x-python",
   "name": "python",
   "nbconvert_exporter": "python",
   "pygments_lexer": "ipython3",
   "version": "3.9.13"
  }
 },
 "nbformat": 4,
 "nbformat_minor": 2
}
