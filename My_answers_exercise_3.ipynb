{
 "cells": [
  {
   "cell_type": "code",
   "execution_count": 1,
   "id": "513721da",
   "metadata": {},
   "outputs": [],
   "source": [
    "# Para atualizar um pacote, execute o comando abaixo no terminal ou prompt de comando:\n",
    "# pip install -U nome_pacote\n",
    "\n",
    "# Para instalar a versão exata de um pacote, execute o comando abaixo no terminal ou prompt de comando:\n",
    "# !pip install nome_pacote==versão_desejada\n",
    "\n",
    "# Depois de instalar ou atualizar o pacote, reinicie o jupyter notebook.\n",
    "\n",
    "# Instala o pacote watermark. \n",
    "# Esse pacote é usado para gravar as versões de outros pacotes usados neste jupyter notebook.\n",
    "!pip install -q -U watermark"
   ]
  },
  {
   "cell_type": "code",
   "execution_count": 2,
   "id": "14b849e9",
   "metadata": {},
   "outputs": [],
   "source": [
    "# Imports\n",
    "import math\n",
    "import numpy as np"
   ]
  },
  {
   "cell_type": "code",
   "execution_count": 3,
   "id": "f01e814d",
   "metadata": {},
   "outputs": [
    {
     "name": "stdout",
     "output_type": "stream",
     "text": [
      "Author: Data Science Academy\n",
      "\n"
     ]
    }
   ],
   "source": [
    "# Versões dos pacotes usados neste jupyter notebook\n",
    "%reload_ext watermark\n",
    "%watermark -a \"Data Science Academy\""
   ]
  },
  {
   "cell_type": "markdown",
   "id": "1e22effe",
   "metadata": {},
   "source": [
    "# LAB3 "
   ]
  },
  {
   "cell_type": "markdown",
   "id": "ae1821f0",
   "metadata": {},
   "source": [
    "## EXERCÍCIO 1 - SOMA DE VETORES:"
   ]
  },
  {
   "cell_type": "markdown",
   "id": "ae91492b",
   "metadata": {},
   "source": [
    "'''\n",
    "Descrição:  Escreva  uma  função  em  Python  que  some  dois  vetores.  Suponha  que  os vetores  têm  o  mesmo  tamanho.  Resolva  o  exercício  de  forma  diferente  do  que  foi mostrado nas aulas.'''"
   ]
  },
  {
   "cell_type": "code",
   "execution_count": 4,
   "id": "f0f5321e",
   "metadata": {},
   "outputs": [
    {
     "name": "stdout",
     "output_type": "stream",
     "text": [
      "Vetor a: [1, 2, 3]\n",
      "Vetor b: [4, 5, 6]\n",
      "Soma dos vetores: [5, 7, 9]\n"
     ]
    }
   ],
   "source": [
    "# Vetores a e b\n",
    "a = [1, 2, 3]\n",
    "b = [4, 5, 6]\n",
    "\n",
    "# Inicializando uma lista vazia\n",
    "soma_vetores = []\n",
    "\n",
    "# Loop for\n",
    "for i in range(len(a)):\n",
    "    soma_vetores.append(a[i] + b[i])\n",
    "\n",
    "print(\"Vetor a:\", a)\n",
    "print(\"Vetor b:\", b)\n",
    "print(f\"Soma dos vetores:\",soma_vetores)"
   ]
  },
  {
   "cell_type": "code",
   "execution_count": 5,
   "id": "bbd55452",
   "metadata": {},
   "outputs": [
    {
     "name": "stdout",
     "output_type": "stream",
     "text": [
      "Vetor a: [1, 2, 3]\n",
      "Vetor b: [4, 5, 6]\n",
      "Soma dos vetores: [5, 7, 9]\n"
     ]
    }
   ],
   "source": [
    "# Vetores a e b\n",
    "a = [1, 2, 3]\n",
    "b = [4, 5, 6]\n",
    "\n",
    "def soma_vetores(a, b):\n",
    "    x = a[0] + b[0]\n",
    "    y = a[1] + b[1]\n",
    "    z = a[2] + b[2]\n",
    "    return [x, y, z]\n",
    "\n",
    "resultado = soma_vetores(a, b)\n",
    "print(\"Vetor a:\", a)\n",
    "print(\"Vetor b:\", b)\n",
    "print(f\"Soma dos vetores:\", resultado)\n"
   ]
  },
  {
   "cell_type": "code",
   "execution_count": 6,
   "id": "804207f5",
   "metadata": {},
   "outputs": [
    {
     "name": "stdout",
     "output_type": "stream",
     "text": [
      "Soma de vetores = [4, 6]\n"
     ]
    }
   ],
   "source": [
    "# USAR FUNÇÕES BUILT-IN (ZIP) OFERECEM A MELHOR PEFORMANCE:\n",
    "v = [1, 2]\n",
    "w = [3, 4]\n",
    "def somar_vetores(v, w):\n",
    "    return [x + y for x, y in zip(v, w)]\n",
    "print(f\"Soma de vetores = {somar_vetores(v, w)}\" )"
   ]
  },
  {
   "cell_type": "markdown",
   "id": "92d1b8e6",
   "metadata": {},
   "source": [
    "## EXERCÍCIO 2 - Produto Escalar:"
   ]
  },
  {
   "cell_type": "markdown",
   "id": "b42f178d",
   "metadata": {},
   "source": [
    "'''Descrição:  Implemente  uma  função  que  calcule  o  produto  escalar  entre  dois  vetores. Resolva o exercício de forma diferente do que foi mostrado nas aulas.'''"
   ]
  },
  {
   "cell_type": "code",
   "execution_count": 7,
   "id": "12825f99",
   "metadata": {},
   "outputs": [
    {
     "name": "stdout",
     "output_type": "stream",
     "text": [
      "Produto Escalar: 32\n"
     ]
    }
   ],
   "source": [
    "# USANDO FUNÇÃO:\n",
    "# zip(a, b) em Python combina os elementos de duas (ou mais) sequências, como listas ou tuplas, \n",
    "# criando pares correspondentes: [(1,4), (2,5), (3,6)]:\n",
    "\n",
    "# Vetores a e b\n",
    "a = [1, 2, 3]\n",
    "b = [4, 5, 6]\n",
    "\n",
    "def funcao_produto_escalar(a, b):\n",
    "    return sum(a * b for a, b in zip(a, b))\n",
    "\n",
    "resultado = funcao_produto_escalar(a, b)\n",
    "print(\"Produto Escalar:\", resultado)\n",
    "    "
   ]
  },
  {
   "cell_type": "code",
   "execution_count": 8,
   "id": "d10ce80d",
   "metadata": {},
   "outputs": [
    {
     "name": "stdout",
     "output_type": "stream",
     "text": [
      "Produto escalar de a e b: 32\n"
     ]
    }
   ],
   "source": [
    "# FAZENDO O CÁLCULO MANUALMENTE:\n",
    "\n",
    "# Definindo dois vetores\n",
    "a = [1, 2, 3]\n",
    "b = [4, 5, 6]\n",
    "\n",
    "# Inicializando a variável do produto escalar\n",
    "produto_escalar = 0\n",
    "\n",
    "# Loop para calcular o produto escalar\n",
    "for i in range(len(a)):\n",
    "    produto_escalar += a[i] * b[i]\n",
    "\n",
    "print(\"Produto escalar de a e b:\", produto_escalar)\n"
   ]
  },
  {
   "cell_type": "code",
   "execution_count": 9,
   "id": "0981610d",
   "metadata": {},
   "outputs": [
    {
     "name": "stdout",
     "output_type": "stream",
     "text": [
      "Produto escalar de a e b: 32\n"
     ]
    }
   ],
   "source": [
    "# USANDO O np.dot():\n",
    "\n",
    "# Vetores a e b\n",
    "a = [1, 2, 3]\n",
    "b = [4, 5, 6]\n",
    "\n",
    "produto_escalar = np.dot(a, b)\n",
    "\n",
    "print(\"Produto escalar de a e b:\", produto_escalar)"
   ]
  },
  {
   "cell_type": "markdown",
   "id": "1cb81de5",
   "metadata": {},
   "source": [
    "## EXERCÍCIO 3 - Norma de um Vetor:"
   ]
  },
  {
   "cell_type": "markdown",
   "id": "f1ea3bd2",
   "metadata": {},
   "source": [
    "'''Descrição: Escreva uma função que calcule a norma (ou comprimento) de um vetor.'''"
   ]
  },
  {
   "cell_type": "code",
   "execution_count": 10,
   "id": "6a718c2f",
   "metadata": {},
   "outputs": [
    {
     "name": "stdout",
     "output_type": "stream",
     "text": [
      "A norma ou comprimento do vetor [1, 3, 5] é igual à 5.92\n"
     ]
    }
   ],
   "source": [
    "a = [1, 3 , 5]\n",
    "\n",
    "def norma(a):\n",
    "    soma = 0\n",
    "    for i in range((len(a))):\n",
    "        soma += (a[i]**2)\n",
    "        \n",
    "    return math.sqrt(soma)\n",
    "print(f\"A norma ou comprimento do vetor {a} é igual à {norma(a):.2f}\")"
   ]
  },
  {
   "cell_type": "code",
   "execution_count": 11,
   "id": "f30fc900",
   "metadata": {},
   "outputs": [
    {
     "name": "stdout",
     "output_type": "stream",
     "text": [
      "A norma ou comprimento do vetor [1, 3, 5] é igual à 5.92\n"
     ]
    }
   ],
   "source": [
    "a = [1, 3 , 5]\n",
    "\n",
    "def norma(a):\n",
    "    return math.sqrt(sum(x**2 for x in a))\n",
    "print(f\"A norma ou comprimento do vetor {a} é igual à {norma(a):.2f}\")"
   ]
  },
  {
   "cell_type": "code",
   "execution_count": 12,
   "id": "74f6330e",
   "metadata": {},
   "outputs": [
    {
     "name": "stdout",
     "output_type": "stream",
     "text": [
      "A norma ou comprimento do vetor [1, 3, 5] é igual à 5.92\n"
     ]
    }
   ],
   "source": [
    "a = [1, 3 , 5]\n",
    "\n",
    "def norma(a):      \n",
    "    return np.linalg.norm(a)\n",
    "\n",
    "print(f\"A norma ou comprimento do vetor {a} é igual à {norma(a):.2f}\")"
   ]
  },
  {
   "cell_type": "markdown",
   "id": "1c30b220",
   "metadata": {},
   "source": [
    "## EXERCÍCIO 4 -  Ângulo entre Dois Vetores:"
   ]
  },
  {
   "cell_type": "markdown",
   "id": "d986a54b",
   "metadata": {},
   "source": [
    "'''Descrição: Implemente uma função que calcule o ângulo (em graus) entre dois vetores.'''"
   ]
  },
  {
   "cell_type": "code",
   "execution_count": 13,
   "id": "b11428df",
   "metadata": {},
   "outputs": [],
   "source": [
    "# Ângulo-entre-dois-vetores:\n",
    "\n",
    "# cosθ = <v, u> / (|v|*|u|)\n",
    "\n",
    "# θ - ângulo entre 2 vetores v e u\n",
    "# < <v, u> => produto das 'normas' dos vetores v e u\n",
    "# <v, u> => 'produto escalar' entre v e u"
   ]
  },
  {
   "cell_type": "code",
   "execution_count": 14,
   "id": "7ecfcd60",
   "metadata": {},
   "outputs": [
    {
     "name": "stdout",
     "output_type": "stream",
     "text": [
      "A norma ou comprimento do vetor [1, 3, 5] é igual à 5.92\n",
      "A norma ou comprimento do vetor [4, 5, 6] é igual à 8.77\n"
     ]
    }
   ],
   "source": [
    "# Cálculo das normas do vetores v e u:\n",
    "def norma(v):      \n",
    "    return np.linalg.norm(v)\n",
    "\n",
    "# Cálculo da norma dos 2 vetores:\n",
    "a = [1, 3, 5]\n",
    "b = [4, 5, 6]\n",
    "\n",
    "norma_a = norma(a)\n",
    "norma_b = norma(b)\n",
    "\n",
    "print(f\"A norma ou comprimento do vetor {a} é igual à {norma_a:.2f}\")\n",
    "print(f\"A norma ou comprimento do vetor {b} é igual à {norma_b:.2f}\")"
   ]
  },
  {
   "cell_type": "code",
   "execution_count": 15,
   "id": "10741e8b",
   "metadata": {},
   "outputs": [
    {
     "name": "stdout",
     "output_type": "stream",
     "text": [
      "Produto escalar de a e b: 49\n"
     ]
    }
   ],
   "source": [
    "# Cálculo do produto escalar dos vetores v e u:\n",
    "produto_escalar1 = np.dot(a, b)\n",
    "print(\"Produto escalar de a e b:\", produto_escalar1)"
   ]
  },
  {
   "cell_type": "code",
   "execution_count": 16,
   "id": "fd60b5d0",
   "metadata": {},
   "outputs": [
    {
     "name": "stdout",
     "output_type": "stream",
     "text": [
      "0.9438798074485388\n"
     ]
    }
   ],
   "source": [
    "# Cálculo do ângulo entre os vetores v e u:\n",
    "# y = cos_x\n",
    "y =  produto_escalar1 / (norma_a * norma_b)\n",
    "print(y)"
   ]
  },
  {
   "cell_type": "code",
   "execution_count": 17,
   "id": "5259d490",
   "metadata": {},
   "outputs": [
    {
     "name": "stdout",
     "output_type": "stream",
     "text": [
      "O ângulo entre os vetore [1, 3, 5] e [4, 5, 6] é 19.29 graus\n"
     ]
    }
   ],
   "source": [
    "cos_x = y\n",
    "angulo = math.degrees(math.acos(cos_x))\n",
    "print(f\"O ângulo entre os vetore {a} e {b} é {angulo:.2f} graus\")"
   ]
  },
  {
   "cell_type": "code",
   "execution_count": 18,
   "id": "a804bb92",
   "metadata": {},
   "outputs": [
    {
     "name": "stdout",
     "output_type": "stream",
     "text": [
      "A norma ou comprimento do vetor [1, 0] é igual à 1.00\n",
      "A norma ou comprimento do vetor [0, 1] é igual à 1.00\n",
      "Produto escalar de a e b: 0\n",
      "0.0\n",
      "O ângulo entre os vetore [1, 0] e [0, 1] é 90.00 graus\n"
     ]
    }
   ],
   "source": [
    "# SOLUÇÃO COM EXEMPLO DIFERENTE:\n",
    "# Cálculo das normas do vetores v e u:\n",
    "def norma(v):      \n",
    "    return np.linalg.norm(v)\n",
    "\n",
    "# Cálculo da norma dos 2 vetores:\n",
    "a = [1, 0]\n",
    "b = [0, 1]\n",
    "\n",
    "norma_a = norma(a)\n",
    "norma_b = norma(b)\n",
    "\n",
    "print(f\"A norma ou comprimento do vetor {a} é igual à {norma_a:.2f}\")\n",
    "print(f\"A norma ou comprimento do vetor {b} é igual à {norma_b:.2f}\")\n",
    "\n",
    "# Cálculo do produto escalar dos vetores v e u:\n",
    "produto_escalar1 = np.dot(a, b)\n",
    "print(\"Produto escalar de a e b:\", produto_escalar1)\n",
    "\n",
    "# Cálculo do ângulo entre os vetores v e u:\n",
    "# y = cos_x\n",
    "y =  produto_escalar1 / (norma_a * norma_b)\n",
    "print(y)\n",
    "\n",
    "cos_x = y\n",
    "angulo = math.degrees(math.acos(cos_x))\n",
    "print(f\"O ângulo entre os vetore {a} e {b} é {angulo:.2f} graus\")"
   ]
  },
  {
   "cell_type": "code",
   "execution_count": 19,
   "id": "d27c76e5",
   "metadata": {},
   "outputs": [
    {
     "data": {
      "text/plain": [
       "90.0"
      ]
     },
     "execution_count": 19,
     "metadata": {},
     "output_type": "execute_result"
    }
   ],
   "source": [
    "# solução proposta:\n",
    "\n",
    "import math\n",
    "\n",
    "def calcular_angulo(vetor1, vetor2):\n",
    "    \"\"\"\n",
    "    Calcula o ângulo (em graus) entre dois vetores.\n",
    "\n",
    "    Argumentos:\n",
    "    vetor1 (list): Primeiro vetor.\n",
    "    vetor2 (list): Segundo vetor.\n",
    "\n",
    "    Retorna:\n",
    "    float: Ângulo entre os dois vetores em graus.\n",
    "    \"\"\"\n",
    "    \n",
    "    # Calcula o produto escalar dos vetores\n",
    "    produto_escalar = sum(x * y for x, y in zip(vetor1, vetor2))\n",
    "\n",
    "    # Calcula as normas dos vetores\n",
    "    norma_vetor1 = math.sqrt(sum(x**2 for x in vetor1))\n",
    "    norma_vetor2 = math.sqrt(sum(x**2 for x in vetor2))\n",
    "\n",
    "    # Calcula o cosseno do ângulo entre os vetores\n",
    "    cos_angulo = produto_escalar / (norma_vetor1 * norma_vetor2)\n",
    "\n",
    "    # Converte o cosseno do ângulo para graus\n",
    "    angulo = math.acos(cos_angulo) * (180 / math.pi)\n",
    "\n",
    "    return angulo\n",
    "\n",
    "# Exemplo de uso da função\n",
    "vetor_a = [1, 0]\n",
    "vetor_b = [0, 1]\n",
    "angulo = calcular_angulo(vetor_a, vetor_b)\n",
    "angulo"
   ]
  },
  {
   "cell_type": "markdown",
   "id": "5803addd",
   "metadata": {},
   "source": [
    "## EXERCÍCIO 4 -  Projeção de um Vetor sobre Outro:"
   ]
  },
  {
   "cell_type": "markdown",
   "id": "5c692f7d",
   "metadata": {},
   "source": [
    "'''Descrição: Escreva uma função que encontre a projeção de um vetor sobre outro vetor.'''"
   ]
  },
  {
   "cell_type": "code",
   "execution_count": 20,
   "id": "7300d51c",
   "metadata": {},
   "outputs": [],
   "source": [
    "# A fórmula para a projeção ortogonal de um vetor \\(V\\) em \\(W\\) é:          \n",
    "# projWV = ((produto_escalar de V e W)/(módulo de W)**2)* W"
   ]
  },
  {
   "cell_type": "code",
   "execution_count": 21,
   "id": "0888b5ae",
   "metadata": {},
   "outputs": [
    {
     "name": "stdout",
     "output_type": "stream",
     "text": [
      "Produto escalar de a e b: 49\n"
     ]
    }
   ],
   "source": [
    "# Projeção do vetor 'V' sobre o vetor 'w':\n",
    "v = [1, 3, 5]\n",
    "w = [4, 5, 6]\n",
    "produto_escalar2 = np.dot(v, w)\n",
    "print(\"Produto escalar de a e b:\", produto_escalar2)"
   ]
  },
  {
   "cell_type": "code",
   "execution_count": 22,
   "id": "b3efff55",
   "metadata": {},
   "outputs": [
    {
     "name": "stdout",
     "output_type": "stream",
     "text": [
      "A norma ou comprimento do vetor [4, 5, 6] é igual à 77.00\n"
     ]
    }
   ],
   "source": [
    "def norma1(w):\n",
    "    soma1 = 0\n",
    "    for i in range(len(w)):\n",
    "        soma1 += (w[i]**2)\n",
    "    return soma1    \n",
    "\n",
    "print(f\"A norma ou comprimento do vetor {w} é igual à {norma1(w):.2f}\")"
   ]
  },
  {
   "cell_type": "code",
   "execution_count": 23,
   "id": "eaa77690",
   "metadata": {},
   "outputs": [
    {
     "name": "stdout",
     "output_type": "stream",
     "text": [
      "0.6363636363636364\n"
     ]
    }
   ],
   "source": [
    "x = produto_escalar2/norma1(w)\n",
    "print(x)"
   ]
  },
  {
   "cell_type": "code",
   "execution_count": 24,
   "id": "4b07e7c8",
   "metadata": {},
   "outputs": [
    {
     "name": "stdout",
     "output_type": "stream",
     "text": [
      "[2.5454545454545454, 3.1818181818181817, 3.8181818181818183]\n"
     ]
    }
   ],
   "source": [
    "resultado =[x * i for i in w]\n",
    "print(resultado)"
   ]
  },
  {
   "cell_type": "code",
   "execution_count": 25,
   "id": "c5668ed5",
   "metadata": {},
   "outputs": [
    {
     "name": "stdout",
     "output_type": "stream",
     "text": [
      "[2.5454545454545454, 3.1818181818181817, 3.8181818181818183]\n"
     ]
    }
   ],
   "source": [
    "resultado1 = list(map(lambda y: y * x, w))\n",
    "print(resultado1)"
   ]
  },
  {
   "cell_type": "code",
   "execution_count": 26,
   "id": "2ed4ce9c",
   "metadata": {},
   "outputs": [
    {
     "data": {
      "text/plain": [
       "[2.5454545454545454, 3.1818181818181817, 3.8181818181818183]"
      ]
     },
     "execution_count": 26,
     "metadata": {},
     "output_type": "execute_result"
    }
   ],
   "source": [
    "# Solução\n",
    "def projetar_vetor(vetor_a, vetor_b):\n",
    "    \"\"\"\n",
    "    Calcula a projeção do vetor_a sobre o vetor_b.\n",
    "\n",
    "    Args:\n",
    "    vetor_a (list): Vetor a ser projetado.\n",
    "    vetor_b (list): Vetor sobre o qual o vetor_a será projetado.\n",
    "\n",
    "    Returns:\n",
    "    list: Projeção do vetor_a sobre o vetor_b.\n",
    "    \"\"\"\n",
    "    \n",
    "    # Calcula o produto escalar de vetor_a e vetor_b\n",
    "    produto_escalar = sum(a * b for a, b in zip(vetor_a, vetor_b))\n",
    "\n",
    "    # Calcula a norma ao quadrado de vetor_b\n",
    "    norma_quadrado_vetor_b = sum(b ** 2 for b in vetor_b)\n",
    "\n",
    "    # Calcula o fator de escala para a projeção\n",
    "    escala = produto_escalar / norma_quadrado_vetor_b\n",
    "\n",
    "    # Calcula a projeção de vetor_a sobre vetor_b\n",
    "    projecao = [escala * b for b in vetor_b]\n",
    "\n",
    "    return projecao\n",
    "\n",
    "# Exemplo de uso da função\n",
    "vetor_a = [1, 3, 5]\n",
    "vetor_b = [4, 5, 6]\n",
    "projecao_vetor_a_sobre_b = projetar_vetor(vetor_a, vetor_b)\n",
    "projecao_vetor_a_sobre_b"
   ]
  },
  {
   "cell_type": "code",
   "execution_count": 27,
   "id": "e7f7a0da",
   "metadata": {},
   "outputs": [
    {
     "name": "stdout",
     "output_type": "stream",
     "text": [
      "Author: Data Science Academy\n",
      "\n"
     ]
    }
   ],
   "source": [
    "%reload_ext watermark\n",
    "%watermark -a \"Data Science Academy\""
   ]
  },
  {
   "cell_type": "code",
   "execution_count": 28,
   "id": "a61cb92b",
   "metadata": {},
   "outputs": [
    {
     "name": "stdout",
     "output_type": "stream",
     "text": [
      "Python implementation: CPython\n",
      "Python version       : 3.9.13\n",
      "IPython version      : 7.31.1\n",
      "\n",
      "Compiler    : GCC 11.2.0\n",
      "OS          : Linux\n",
      "Release     : 5.4.0-205-generic\n",
      "Machine     : x86_64\n",
      "Processor   : x86_64\n",
      "CPU cores   : 4\n",
      "Architecture: 64bit\n",
      "\n"
     ]
    }
   ],
   "source": [
    "%watermark -v -m"
   ]
  },
  {
   "cell_type": "code",
   "execution_count": 29,
   "id": "d38057bf",
   "metadata": {},
   "outputs": [
    {
     "name": "stdout",
     "output_type": "stream",
     "text": [
      "numpy: 1.20.1\n",
      "\n"
     ]
    }
   ],
   "source": [
    "%watermark --iversions"
   ]
  }
 ],
 "metadata": {
  "kernelspec": {
   "display_name": "Python 3 (ipykernel)",
   "language": "python",
   "name": "python3"
  },
  "language_info": {
   "codemirror_mode": {
    "name": "ipython",
    "version": 3
   },
   "file_extension": ".py",
   "mimetype": "text/x-python",
   "name": "python",
   "nbconvert_exporter": "python",
   "pygments_lexer": "ipython3",
   "version": "3.9.13"
  }
 },
 "nbformat": 4,
 "nbformat_minor": 5
}
